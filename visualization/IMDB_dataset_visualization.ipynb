{
  "nbformat": 4,
  "nbformat_minor": 0,
  "metadata": {
    "colab": {
      "provenance": [],
      "gpuType": "T4"
    },
    "kernelspec": {
      "name": "python3",
      "display_name": "Python 3"
    },
    "language_info": {
      "name": "python"
    },
    "accelerator": "GPU"
  },
  "cells": [
    {
      "cell_type": "markdown",
      "source": [
        "# Dependencies and Libraries"
      ],
      "metadata": {
        "id": "FEiEqumEqxQv"
      }
    },
    {
      "cell_type": "code",
      "execution_count": 1,
      "metadata": {
        "colab": {
          "base_uri": "https://localhost:8080/"
        },
        "id": "rJUsAQWnvW02",
        "outputId": "ee9d9571-622a-473a-85dc-238a74c145de"
      },
      "outputs": [
        {
          "output_type": "stream",
          "name": "stdout",
          "text": [
            "Requirement already satisfied: kaggle in /usr/local/lib/python3.11/dist-packages (1.6.17)\n",
            "Requirement already satisfied: six>=1.10 in /usr/local/lib/python3.11/dist-packages (from kaggle) (1.17.0)\n",
            "Requirement already satisfied: certifi>=2023.7.22 in /usr/local/lib/python3.11/dist-packages (from kaggle) (2025.1.31)\n",
            "Requirement already satisfied: python-dateutil in /usr/local/lib/python3.11/dist-packages (from kaggle) (2.8.2)\n",
            "Requirement already satisfied: requests in /usr/local/lib/python3.11/dist-packages (from kaggle) (2.32.3)\n",
            "Requirement already satisfied: tqdm in /usr/local/lib/python3.11/dist-packages (from kaggle) (4.67.1)\n",
            "Requirement already satisfied: python-slugify in /usr/local/lib/python3.11/dist-packages (from kaggle) (8.0.4)\n",
            "Requirement already satisfied: urllib3 in /usr/local/lib/python3.11/dist-packages (from kaggle) (2.3.0)\n",
            "Requirement already satisfied: bleach in /usr/local/lib/python3.11/dist-packages (from kaggle) (6.2.0)\n",
            "Requirement already satisfied: webencodings in /usr/local/lib/python3.11/dist-packages (from bleach->kaggle) (0.5.1)\n",
            "Requirement already satisfied: text-unidecode>=1.3 in /usr/local/lib/python3.11/dist-packages (from python-slugify->kaggle) (1.3)\n",
            "Requirement already satisfied: charset-normalizer<4,>=2 in /usr/local/lib/python3.11/dist-packages (from requests->kaggle) (3.4.1)\n",
            "Requirement already satisfied: idna<4,>=2.5 in /usr/local/lib/python3.11/dist-packages (from requests->kaggle) (3.10)\n"
          ]
        }
      ],
      "source": [
        "!pip install kaggle"
      ]
    },
    {
      "cell_type": "code",
      "source": [
        "!pip install tensorflow"
      ],
      "metadata": {
        "colab": {
          "base_uri": "https://localhost:8080/"
        },
        "id": "w2up6HkYnvDJ",
        "outputId": "53dab63b-7258-40d0-defb-2ea018e66ee4"
      },
      "execution_count": 2,
      "outputs": [
        {
          "output_type": "stream",
          "name": "stdout",
          "text": [
            "Requirement already satisfied: tensorflow in /usr/local/lib/python3.11/dist-packages (2.18.0)\n",
            "Requirement already satisfied: absl-py>=1.0.0 in /usr/local/lib/python3.11/dist-packages (from tensorflow) (1.4.0)\n",
            "Requirement already satisfied: astunparse>=1.6.0 in /usr/local/lib/python3.11/dist-packages (from tensorflow) (1.6.3)\n",
            "Requirement already satisfied: flatbuffers>=24.3.25 in /usr/local/lib/python3.11/dist-packages (from tensorflow) (25.2.10)\n",
            "Requirement already satisfied: gast!=0.5.0,!=0.5.1,!=0.5.2,>=0.2.1 in /usr/local/lib/python3.11/dist-packages (from tensorflow) (0.6.0)\n",
            "Requirement already satisfied: google-pasta>=0.1.1 in /usr/local/lib/python3.11/dist-packages (from tensorflow) (0.2.0)\n",
            "Requirement already satisfied: libclang>=13.0.0 in /usr/local/lib/python3.11/dist-packages (from tensorflow) (18.1.1)\n",
            "Requirement already satisfied: opt-einsum>=2.3.2 in /usr/local/lib/python3.11/dist-packages (from tensorflow) (3.4.0)\n",
            "Requirement already satisfied: packaging in /usr/local/lib/python3.11/dist-packages (from tensorflow) (24.2)\n",
            "Requirement already satisfied: protobuf!=4.21.0,!=4.21.1,!=4.21.2,!=4.21.3,!=4.21.4,!=4.21.5,<6.0.0dev,>=3.20.3 in /usr/local/lib/python3.11/dist-packages (from tensorflow) (4.25.6)\n",
            "Requirement already satisfied: requests<3,>=2.21.0 in /usr/local/lib/python3.11/dist-packages (from tensorflow) (2.32.3)\n",
            "Requirement already satisfied: setuptools in /usr/local/lib/python3.11/dist-packages (from tensorflow) (75.1.0)\n",
            "Requirement already satisfied: six>=1.12.0 in /usr/local/lib/python3.11/dist-packages (from tensorflow) (1.17.0)\n",
            "Requirement already satisfied: termcolor>=1.1.0 in /usr/local/lib/python3.11/dist-packages (from tensorflow) (2.5.0)\n",
            "Requirement already satisfied: typing-extensions>=3.6.6 in /usr/local/lib/python3.11/dist-packages (from tensorflow) (4.12.2)\n",
            "Requirement already satisfied: wrapt>=1.11.0 in /usr/local/lib/python3.11/dist-packages (from tensorflow) (1.17.2)\n",
            "Requirement already satisfied: grpcio<2.0,>=1.24.3 in /usr/local/lib/python3.11/dist-packages (from tensorflow) (1.70.0)\n",
            "Requirement already satisfied: tensorboard<2.19,>=2.18 in /usr/local/lib/python3.11/dist-packages (from tensorflow) (2.18.0)\n",
            "Requirement already satisfied: keras>=3.5.0 in /usr/local/lib/python3.11/dist-packages (from tensorflow) (3.8.0)\n",
            "Requirement already satisfied: numpy<2.1.0,>=1.26.0 in /usr/local/lib/python3.11/dist-packages (from tensorflow) (1.26.4)\n",
            "Requirement already satisfied: h5py>=3.11.0 in /usr/local/lib/python3.11/dist-packages (from tensorflow) (3.12.1)\n",
            "Requirement already satisfied: ml-dtypes<0.5.0,>=0.4.0 in /usr/local/lib/python3.11/dist-packages (from tensorflow) (0.4.1)\n",
            "Requirement already satisfied: tensorflow-io-gcs-filesystem>=0.23.1 in /usr/local/lib/python3.11/dist-packages (from tensorflow) (0.37.1)\n",
            "Requirement already satisfied: wheel<1.0,>=0.23.0 in /usr/local/lib/python3.11/dist-packages (from astunparse>=1.6.0->tensorflow) (0.45.1)\n",
            "Requirement already satisfied: rich in /usr/local/lib/python3.11/dist-packages (from keras>=3.5.0->tensorflow) (13.9.4)\n",
            "Requirement already satisfied: namex in /usr/local/lib/python3.11/dist-packages (from keras>=3.5.0->tensorflow) (0.0.8)\n",
            "Requirement already satisfied: optree in /usr/local/lib/python3.11/dist-packages (from keras>=3.5.0->tensorflow) (0.14.0)\n",
            "Requirement already satisfied: charset-normalizer<4,>=2 in /usr/local/lib/python3.11/dist-packages (from requests<3,>=2.21.0->tensorflow) (3.4.1)\n",
            "Requirement already satisfied: idna<4,>=2.5 in /usr/local/lib/python3.11/dist-packages (from requests<3,>=2.21.0->tensorflow) (3.10)\n",
            "Requirement already satisfied: urllib3<3,>=1.21.1 in /usr/local/lib/python3.11/dist-packages (from requests<3,>=2.21.0->tensorflow) (2.3.0)\n",
            "Requirement already satisfied: certifi>=2017.4.17 in /usr/local/lib/python3.11/dist-packages (from requests<3,>=2.21.0->tensorflow) (2025.1.31)\n",
            "Requirement already satisfied: markdown>=2.6.8 in /usr/local/lib/python3.11/dist-packages (from tensorboard<2.19,>=2.18->tensorflow) (3.7)\n",
            "Requirement already satisfied: tensorboard-data-server<0.8.0,>=0.7.0 in /usr/local/lib/python3.11/dist-packages (from tensorboard<2.19,>=2.18->tensorflow) (0.7.2)\n",
            "Requirement already satisfied: werkzeug>=1.0.1 in /usr/local/lib/python3.11/dist-packages (from tensorboard<2.19,>=2.18->tensorflow) (3.1.3)\n",
            "Requirement already satisfied: MarkupSafe>=2.1.1 in /usr/local/lib/python3.11/dist-packages (from werkzeug>=1.0.1->tensorboard<2.19,>=2.18->tensorflow) (3.0.2)\n",
            "Requirement already satisfied: markdown-it-py>=2.2.0 in /usr/local/lib/python3.11/dist-packages (from rich->keras>=3.5.0->tensorflow) (3.0.0)\n",
            "Requirement already satisfied: pygments<3.0.0,>=2.13.0 in /usr/local/lib/python3.11/dist-packages (from rich->keras>=3.5.0->tensorflow) (2.18.0)\n",
            "Requirement already satisfied: mdurl~=0.1 in /usr/local/lib/python3.11/dist-packages (from markdown-it-py>=2.2.0->rich->keras>=3.5.0->tensorflow) (0.1.2)\n"
          ]
        }
      ]
    },
    {
      "cell_type": "code",
      "source": [
        "from google.colab import files\n",
        "import pandas as pd\n",
        "import numpy as np\n",
        "import re\n",
        "import nltk\n",
        "import json\n",
        "from nltk.corpus import stopwords\n",
        "from numpy import array\n",
        "import tensorflow as tf\n",
        "from sklearn.feature_extraction.text import TfidfVectorizer"
      ],
      "metadata": {
        "id": "UTU81QtNvg8x"
      },
      "execution_count": 3,
      "outputs": []
    },
    {
      "cell_type": "code",
      "source": [
        "from tensorflow.keras.preprocessing.text import one_hot, Tokenizer\n",
        "from tensorflow.keras.models import Sequential\n",
        "from tensorflow.keras.layers import Activation, Dropout, Dense\n",
        "from tensorflow.keras.layers import Flatten, GlobalMaxPooling1D, Embedding, Conv1D, LSTM\n",
        "from sklearn.model_selection import train_test_split\n",
        "from tensorflow.keras.layers import Bidirectional\n",
        "from sklearn.linear_model import LogisticRegression\n"
      ],
      "metadata": {
        "id": "HwgYmGNOn6SS"
      },
      "execution_count": 4,
      "outputs": []
    },
    {
      "cell_type": "code",
      "source": [
        "from tensorflow.keras.preprocessing.sequence import pad_sequences\n",
        "import gzip\n",
        "import shutil\n",
        "from sklearn.metrics import accuracy_score, classification_report, confusion_matrix\n",
        "import matplotlib.pyplot as plt\n",
        "import seaborn as sns"
      ],
      "metadata": {
        "id": "z_8nZdS_oyG1"
      },
      "execution_count": 5,
      "outputs": []
    },
    {
      "cell_type": "markdown",
      "source": [
        "### Personal Kaggle API for importing dataset from Kaggle"
      ],
      "metadata": {
        "id": "uSd3s6Upq27Y"
      }
    },
    {
      "cell_type": "code",
      "source": [
        "files.upload()"
      ],
      "metadata": {
        "colab": {
          "base_uri": "https://localhost:8080/",
          "height": 90
        },
        "id": "Ke_fVoZ6vhCF",
        "outputId": "c2847d49-92ed-424e-ef58-802deb6eb8c3"
      },
      "execution_count": 6,
      "outputs": [
        {
          "output_type": "display_data",
          "data": {
            "text/plain": [
              "<IPython.core.display.HTML object>"
            ],
            "text/html": [
              "\n",
              "     <input type=\"file\" id=\"files-81a9af97-5f90-44cb-af56-fd892deeec2c\" name=\"files[]\" multiple disabled\n",
              "        style=\"border:none\" />\n",
              "     <output id=\"result-81a9af97-5f90-44cb-af56-fd892deeec2c\">\n",
              "      Upload widget is only available when the cell has been executed in the\n",
              "      current browser session. Please rerun this cell to enable.\n",
              "      </output>\n",
              "      <script>// Copyright 2017 Google LLC\n",
              "//\n",
              "// Licensed under the Apache License, Version 2.0 (the \"License\");\n",
              "// you may not use this file except in compliance with the License.\n",
              "// You may obtain a copy of the License at\n",
              "//\n",
              "//      http://www.apache.org/licenses/LICENSE-2.0\n",
              "//\n",
              "// Unless required by applicable law or agreed to in writing, software\n",
              "// distributed under the License is distributed on an \"AS IS\" BASIS,\n",
              "// WITHOUT WARRANTIES OR CONDITIONS OF ANY KIND, either express or implied.\n",
              "// See the License for the specific language governing permissions and\n",
              "// limitations under the License.\n",
              "\n",
              "/**\n",
              " * @fileoverview Helpers for google.colab Python module.\n",
              " */\n",
              "(function(scope) {\n",
              "function span(text, styleAttributes = {}) {\n",
              "  const element = document.createElement('span');\n",
              "  element.textContent = text;\n",
              "  for (const key of Object.keys(styleAttributes)) {\n",
              "    element.style[key] = styleAttributes[key];\n",
              "  }\n",
              "  return element;\n",
              "}\n",
              "\n",
              "// Max number of bytes which will be uploaded at a time.\n",
              "const MAX_PAYLOAD_SIZE = 100 * 1024;\n",
              "\n",
              "function _uploadFiles(inputId, outputId) {\n",
              "  const steps = uploadFilesStep(inputId, outputId);\n",
              "  const outputElement = document.getElementById(outputId);\n",
              "  // Cache steps on the outputElement to make it available for the next call\n",
              "  // to uploadFilesContinue from Python.\n",
              "  outputElement.steps = steps;\n",
              "\n",
              "  return _uploadFilesContinue(outputId);\n",
              "}\n",
              "\n",
              "// This is roughly an async generator (not supported in the browser yet),\n",
              "// where there are multiple asynchronous steps and the Python side is going\n",
              "// to poll for completion of each step.\n",
              "// This uses a Promise to block the python side on completion of each step,\n",
              "// then passes the result of the previous step as the input to the next step.\n",
              "function _uploadFilesContinue(outputId) {\n",
              "  const outputElement = document.getElementById(outputId);\n",
              "  const steps = outputElement.steps;\n",
              "\n",
              "  const next = steps.next(outputElement.lastPromiseValue);\n",
              "  return Promise.resolve(next.value.promise).then((value) => {\n",
              "    // Cache the last promise value to make it available to the next\n",
              "    // step of the generator.\n",
              "    outputElement.lastPromiseValue = value;\n",
              "    return next.value.response;\n",
              "  });\n",
              "}\n",
              "\n",
              "/**\n",
              " * Generator function which is called between each async step of the upload\n",
              " * process.\n",
              " * @param {string} inputId Element ID of the input file picker element.\n",
              " * @param {string} outputId Element ID of the output display.\n",
              " * @return {!Iterable<!Object>} Iterable of next steps.\n",
              " */\n",
              "function* uploadFilesStep(inputId, outputId) {\n",
              "  const inputElement = document.getElementById(inputId);\n",
              "  inputElement.disabled = false;\n",
              "\n",
              "  const outputElement = document.getElementById(outputId);\n",
              "  outputElement.innerHTML = '';\n",
              "\n",
              "  const pickedPromise = new Promise((resolve) => {\n",
              "    inputElement.addEventListener('change', (e) => {\n",
              "      resolve(e.target.files);\n",
              "    });\n",
              "  });\n",
              "\n",
              "  const cancel = document.createElement('button');\n",
              "  inputElement.parentElement.appendChild(cancel);\n",
              "  cancel.textContent = 'Cancel upload';\n",
              "  const cancelPromise = new Promise((resolve) => {\n",
              "    cancel.onclick = () => {\n",
              "      resolve(null);\n",
              "    };\n",
              "  });\n",
              "\n",
              "  // Wait for the user to pick the files.\n",
              "  const files = yield {\n",
              "    promise: Promise.race([pickedPromise, cancelPromise]),\n",
              "    response: {\n",
              "      action: 'starting',\n",
              "    }\n",
              "  };\n",
              "\n",
              "  cancel.remove();\n",
              "\n",
              "  // Disable the input element since further picks are not allowed.\n",
              "  inputElement.disabled = true;\n",
              "\n",
              "  if (!files) {\n",
              "    return {\n",
              "      response: {\n",
              "        action: 'complete',\n",
              "      }\n",
              "    };\n",
              "  }\n",
              "\n",
              "  for (const file of files) {\n",
              "    const li = document.createElement('li');\n",
              "    li.append(span(file.name, {fontWeight: 'bold'}));\n",
              "    li.append(span(\n",
              "        `(${file.type || 'n/a'}) - ${file.size} bytes, ` +\n",
              "        `last modified: ${\n",
              "            file.lastModifiedDate ? file.lastModifiedDate.toLocaleDateString() :\n",
              "                                    'n/a'} - `));\n",
              "    const percent = span('0% done');\n",
              "    li.appendChild(percent);\n",
              "\n",
              "    outputElement.appendChild(li);\n",
              "\n",
              "    const fileDataPromise = new Promise((resolve) => {\n",
              "      const reader = new FileReader();\n",
              "      reader.onload = (e) => {\n",
              "        resolve(e.target.result);\n",
              "      };\n",
              "      reader.readAsArrayBuffer(file);\n",
              "    });\n",
              "    // Wait for the data to be ready.\n",
              "    let fileData = yield {\n",
              "      promise: fileDataPromise,\n",
              "      response: {\n",
              "        action: 'continue',\n",
              "      }\n",
              "    };\n",
              "\n",
              "    // Use a chunked sending to avoid message size limits. See b/62115660.\n",
              "    let position = 0;\n",
              "    do {\n",
              "      const length = Math.min(fileData.byteLength - position, MAX_PAYLOAD_SIZE);\n",
              "      const chunk = new Uint8Array(fileData, position, length);\n",
              "      position += length;\n",
              "\n",
              "      const base64 = btoa(String.fromCharCode.apply(null, chunk));\n",
              "      yield {\n",
              "        response: {\n",
              "          action: 'append',\n",
              "          file: file.name,\n",
              "          data: base64,\n",
              "        },\n",
              "      };\n",
              "\n",
              "      let percentDone = fileData.byteLength === 0 ?\n",
              "          100 :\n",
              "          Math.round((position / fileData.byteLength) * 100);\n",
              "      percent.textContent = `${percentDone}% done`;\n",
              "\n",
              "    } while (position < fileData.byteLength);\n",
              "  }\n",
              "\n",
              "  // All done.\n",
              "  yield {\n",
              "    response: {\n",
              "      action: 'complete',\n",
              "    }\n",
              "  };\n",
              "}\n",
              "\n",
              "scope.google = scope.google || {};\n",
              "scope.google.colab = scope.google.colab || {};\n",
              "scope.google.colab._files = {\n",
              "  _uploadFiles,\n",
              "  _uploadFilesContinue,\n",
              "};\n",
              "})(self);\n",
              "</script> "
            ]
          },
          "metadata": {}
        },
        {
          "output_type": "stream",
          "name": "stdout",
          "text": [
            "Saving kaggle.json to kaggle.json\n"
          ]
        },
        {
          "output_type": "execute_result",
          "data": {
            "text/plain": [
              "{'kaggle.json': b'{\"username\":\"roshanrsurk19cs2008\",\"key\":\"28c400a91751388d3c6837bcb396d080\"}'}"
            ]
          },
          "metadata": {},
          "execution_count": 6
        }
      ]
    },
    {
      "cell_type": "code",
      "source": [
        "! mkdir ~/.kaggle"
      ],
      "metadata": {
        "id": "9xol2qW6wClG"
      },
      "execution_count": 7,
      "outputs": []
    },
    {
      "cell_type": "code",
      "source": [
        "!cp /content/kaggle.json ~/.kaggle/"
      ],
      "metadata": {
        "id": "8si9jbWrvhGr"
      },
      "execution_count": 8,
      "outputs": []
    },
    {
      "cell_type": "code",
      "source": [
        "!chmod 600 ~/.kaggle/kaggle.json"
      ],
      "metadata": {
        "id": "tf7H_0CZvhL5"
      },
      "execution_count": 9,
      "outputs": []
    },
    {
      "cell_type": "markdown",
      "source": [
        "### Downloading Dataset"
      ],
      "metadata": {
        "id": "qG2Kq7INq_a-"
      }
    },
    {
      "cell_type": "code",
      "source": [
        "! kaggle datasets download lakshmi25npathi/imdb-dataset-of-50k-movie-reviews"
      ],
      "metadata": {
        "colab": {
          "base_uri": "https://localhost:8080/"
        },
        "id": "RmlbIwf_vhRq",
        "outputId": "c2b57781-bde9-4147-f4e8-a95287ed3254"
      },
      "execution_count": 10,
      "outputs": [
        {
          "output_type": "stream",
          "name": "stdout",
          "text": [
            "Dataset URL: https://www.kaggle.com/datasets/lakshmi25npathi/imdb-dataset-of-50k-movie-reviews\n",
            "License(s): other\n",
            "Downloading imdb-dataset-of-50k-movie-reviews.zip to /content\n",
            " 31% 8.00M/25.7M [00:00<00:00, 81.5MB/s]\n",
            "100% 25.7M/25.7M [00:00<00:00, 179MB/s] \n"
          ]
        }
      ]
    },
    {
      "cell_type": "code",
      "source": [
        "!unzip \"/content/imdb-dataset-of-50k-movie-reviews.zip\""
      ],
      "metadata": {
        "colab": {
          "base_uri": "https://localhost:8080/"
        },
        "id": "OomlL1qzvhVS",
        "outputId": "6f0f0100-433c-4adf-b3b3-03c5bb90c867"
      },
      "execution_count": 11,
      "outputs": [
        {
          "output_type": "stream",
          "name": "stdout",
          "text": [
            "Archive:  /content/imdb-dataset-of-50k-movie-reviews.zip\n",
            "  inflating: IMDB Dataset.csv        \n"
          ]
        }
      ]
    },
    {
      "cell_type": "code",
      "source": [
        "!rm \"/content/imdb-dataset-of-50k-movie-reviews.zip\""
      ],
      "metadata": {
        "id": "N6kuJlnJvhf1"
      },
      "execution_count": 12,
      "outputs": []
    },
    {
      "cell_type": "markdown",
      "source": [
        "### DataFrame Name =movie_reviews"
      ],
      "metadata": {
        "id": "E15OlgckrCxd"
      }
    },
    {
      "cell_type": "code",
      "source": [
        "movie_reviews=pd.read_csv(\"/content/IMDB Dataset.csv\")"
      ],
      "metadata": {
        "id": "6aLwComivhk4"
      },
      "execution_count": 13,
      "outputs": []
    },
    {
      "cell_type": "code",
      "source": [
        "movie_reviews"
      ],
      "metadata": {
        "colab": {
          "base_uri": "https://localhost:8080/",
          "height": 423
        },
        "id": "2Lipe2rjwnE4",
        "outputId": "1115248e-6405-4863-88cc-85fca1497f78"
      },
      "execution_count": 14,
      "outputs": [
        {
          "output_type": "execute_result",
          "data": {
            "text/plain": [
              "                                                  review sentiment\n",
              "0      One of the other reviewers has mentioned that ...  positive\n",
              "1      A wonderful little production. <br /><br />The...  positive\n",
              "2      I thought this was a wonderful way to spend ti...  positive\n",
              "3      Basically there's a family where a little boy ...  negative\n",
              "4      Petter Mattei's \"Love in the Time of Money\" is...  positive\n",
              "...                                                  ...       ...\n",
              "49995  I thought this movie did a down right good job...  positive\n",
              "49996  Bad plot, bad dialogue, bad acting, idiotic di...  negative\n",
              "49997  I am a Catholic taught in parochial elementary...  negative\n",
              "49998  I'm going to have to disagree with the previou...  negative\n",
              "49999  No one expects the Star Trek movies to be high...  negative\n",
              "\n",
              "[50000 rows x 2 columns]"
            ],
            "text/html": [
              "\n",
              "  <div id=\"df-24b17dba-61bf-40fd-9254-626a7b042761\" class=\"colab-df-container\">\n",
              "    <div>\n",
              "<style scoped>\n",
              "    .dataframe tbody tr th:only-of-type {\n",
              "        vertical-align: middle;\n",
              "    }\n",
              "\n",
              "    .dataframe tbody tr th {\n",
              "        vertical-align: top;\n",
              "    }\n",
              "\n",
              "    .dataframe thead th {\n",
              "        text-align: right;\n",
              "    }\n",
              "</style>\n",
              "<table border=\"1\" class=\"dataframe\">\n",
              "  <thead>\n",
              "    <tr style=\"text-align: right;\">\n",
              "      <th></th>\n",
              "      <th>review</th>\n",
              "      <th>sentiment</th>\n",
              "    </tr>\n",
              "  </thead>\n",
              "  <tbody>\n",
              "    <tr>\n",
              "      <th>0</th>\n",
              "      <td>One of the other reviewers has mentioned that ...</td>\n",
              "      <td>positive</td>\n",
              "    </tr>\n",
              "    <tr>\n",
              "      <th>1</th>\n",
              "      <td>A wonderful little production. &lt;br /&gt;&lt;br /&gt;The...</td>\n",
              "      <td>positive</td>\n",
              "    </tr>\n",
              "    <tr>\n",
              "      <th>2</th>\n",
              "      <td>I thought this was a wonderful way to spend ti...</td>\n",
              "      <td>positive</td>\n",
              "    </tr>\n",
              "    <tr>\n",
              "      <th>3</th>\n",
              "      <td>Basically there's a family where a little boy ...</td>\n",
              "      <td>negative</td>\n",
              "    </tr>\n",
              "    <tr>\n",
              "      <th>4</th>\n",
              "      <td>Petter Mattei's \"Love in the Time of Money\" is...</td>\n",
              "      <td>positive</td>\n",
              "    </tr>\n",
              "    <tr>\n",
              "      <th>...</th>\n",
              "      <td>...</td>\n",
              "      <td>...</td>\n",
              "    </tr>\n",
              "    <tr>\n",
              "      <th>49995</th>\n",
              "      <td>I thought this movie did a down right good job...</td>\n",
              "      <td>positive</td>\n",
              "    </tr>\n",
              "    <tr>\n",
              "      <th>49996</th>\n",
              "      <td>Bad plot, bad dialogue, bad acting, idiotic di...</td>\n",
              "      <td>negative</td>\n",
              "    </tr>\n",
              "    <tr>\n",
              "      <th>49997</th>\n",
              "      <td>I am a Catholic taught in parochial elementary...</td>\n",
              "      <td>negative</td>\n",
              "    </tr>\n",
              "    <tr>\n",
              "      <th>49998</th>\n",
              "      <td>I'm going to have to disagree with the previou...</td>\n",
              "      <td>negative</td>\n",
              "    </tr>\n",
              "    <tr>\n",
              "      <th>49999</th>\n",
              "      <td>No one expects the Star Trek movies to be high...</td>\n",
              "      <td>negative</td>\n",
              "    </tr>\n",
              "  </tbody>\n",
              "</table>\n",
              "<p>50000 rows × 2 columns</p>\n",
              "</div>\n",
              "    <div class=\"colab-df-buttons\">\n",
              "\n",
              "  <div class=\"colab-df-container\">\n",
              "    <button class=\"colab-df-convert\" onclick=\"convertToInteractive('df-24b17dba-61bf-40fd-9254-626a7b042761')\"\n",
              "            title=\"Convert this dataframe to an interactive table.\"\n",
              "            style=\"display:none;\">\n",
              "\n",
              "  <svg xmlns=\"http://www.w3.org/2000/svg\" height=\"24px\" viewBox=\"0 -960 960 960\">\n",
              "    <path d=\"M120-120v-720h720v720H120Zm60-500h600v-160H180v160Zm220 220h160v-160H400v160Zm0 220h160v-160H400v160ZM180-400h160v-160H180v160Zm440 0h160v-160H620v160ZM180-180h160v-160H180v160Zm440 0h160v-160H620v160Z\"/>\n",
              "  </svg>\n",
              "    </button>\n",
              "\n",
              "  <style>\n",
              "    .colab-df-container {\n",
              "      display:flex;\n",
              "      gap: 12px;\n",
              "    }\n",
              "\n",
              "    .colab-df-convert {\n",
              "      background-color: #E8F0FE;\n",
              "      border: none;\n",
              "      border-radius: 50%;\n",
              "      cursor: pointer;\n",
              "      display: none;\n",
              "      fill: #1967D2;\n",
              "      height: 32px;\n",
              "      padding: 0 0 0 0;\n",
              "      width: 32px;\n",
              "    }\n",
              "\n",
              "    .colab-df-convert:hover {\n",
              "      background-color: #E2EBFA;\n",
              "      box-shadow: 0px 1px 2px rgba(60, 64, 67, 0.3), 0px 1px 3px 1px rgba(60, 64, 67, 0.15);\n",
              "      fill: #174EA6;\n",
              "    }\n",
              "\n",
              "    .colab-df-buttons div {\n",
              "      margin-bottom: 4px;\n",
              "    }\n",
              "\n",
              "    [theme=dark] .colab-df-convert {\n",
              "      background-color: #3B4455;\n",
              "      fill: #D2E3FC;\n",
              "    }\n",
              "\n",
              "    [theme=dark] .colab-df-convert:hover {\n",
              "      background-color: #434B5C;\n",
              "      box-shadow: 0px 1px 3px 1px rgba(0, 0, 0, 0.15);\n",
              "      filter: drop-shadow(0px 1px 2px rgba(0, 0, 0, 0.3));\n",
              "      fill: #FFFFFF;\n",
              "    }\n",
              "  </style>\n",
              "\n",
              "    <script>\n",
              "      const buttonEl =\n",
              "        document.querySelector('#df-24b17dba-61bf-40fd-9254-626a7b042761 button.colab-df-convert');\n",
              "      buttonEl.style.display =\n",
              "        google.colab.kernel.accessAllowed ? 'block' : 'none';\n",
              "\n",
              "      async function convertToInteractive(key) {\n",
              "        const element = document.querySelector('#df-24b17dba-61bf-40fd-9254-626a7b042761');\n",
              "        const dataTable =\n",
              "          await google.colab.kernel.invokeFunction('convertToInteractive',\n",
              "                                                    [key], {});\n",
              "        if (!dataTable) return;\n",
              "\n",
              "        const docLinkHtml = 'Like what you see? Visit the ' +\n",
              "          '<a target=\"_blank\" href=https://colab.research.google.com/notebooks/data_table.ipynb>data table notebook</a>'\n",
              "          + ' to learn more about interactive tables.';\n",
              "        element.innerHTML = '';\n",
              "        dataTable['output_type'] = 'display_data';\n",
              "        await google.colab.output.renderOutput(dataTable, element);\n",
              "        const docLink = document.createElement('div');\n",
              "        docLink.innerHTML = docLinkHtml;\n",
              "        element.appendChild(docLink);\n",
              "      }\n",
              "    </script>\n",
              "  </div>\n",
              "\n",
              "\n",
              "<div id=\"df-b57fe808-77b6-4f31-80a2-3d8e7bb9d8a8\">\n",
              "  <button class=\"colab-df-quickchart\" onclick=\"quickchart('df-b57fe808-77b6-4f31-80a2-3d8e7bb9d8a8')\"\n",
              "            title=\"Suggest charts\"\n",
              "            style=\"display:none;\">\n",
              "\n",
              "<svg xmlns=\"http://www.w3.org/2000/svg\" height=\"24px\"viewBox=\"0 0 24 24\"\n",
              "     width=\"24px\">\n",
              "    <g>\n",
              "        <path d=\"M19 3H5c-1.1 0-2 .9-2 2v14c0 1.1.9 2 2 2h14c1.1 0 2-.9 2-2V5c0-1.1-.9-2-2-2zM9 17H7v-7h2v7zm4 0h-2V7h2v10zm4 0h-2v-4h2v4z\"/>\n",
              "    </g>\n",
              "</svg>\n",
              "  </button>\n",
              "\n",
              "<style>\n",
              "  .colab-df-quickchart {\n",
              "      --bg-color: #E8F0FE;\n",
              "      --fill-color: #1967D2;\n",
              "      --hover-bg-color: #E2EBFA;\n",
              "      --hover-fill-color: #174EA6;\n",
              "      --disabled-fill-color: #AAA;\n",
              "      --disabled-bg-color: #DDD;\n",
              "  }\n",
              "\n",
              "  [theme=dark] .colab-df-quickchart {\n",
              "      --bg-color: #3B4455;\n",
              "      --fill-color: #D2E3FC;\n",
              "      --hover-bg-color: #434B5C;\n",
              "      --hover-fill-color: #FFFFFF;\n",
              "      --disabled-bg-color: #3B4455;\n",
              "      --disabled-fill-color: #666;\n",
              "  }\n",
              "\n",
              "  .colab-df-quickchart {\n",
              "    background-color: var(--bg-color);\n",
              "    border: none;\n",
              "    border-radius: 50%;\n",
              "    cursor: pointer;\n",
              "    display: none;\n",
              "    fill: var(--fill-color);\n",
              "    height: 32px;\n",
              "    padding: 0;\n",
              "    width: 32px;\n",
              "  }\n",
              "\n",
              "  .colab-df-quickchart:hover {\n",
              "    background-color: var(--hover-bg-color);\n",
              "    box-shadow: 0 1px 2px rgba(60, 64, 67, 0.3), 0 1px 3px 1px rgba(60, 64, 67, 0.15);\n",
              "    fill: var(--button-hover-fill-color);\n",
              "  }\n",
              "\n",
              "  .colab-df-quickchart-complete:disabled,\n",
              "  .colab-df-quickchart-complete:disabled:hover {\n",
              "    background-color: var(--disabled-bg-color);\n",
              "    fill: var(--disabled-fill-color);\n",
              "    box-shadow: none;\n",
              "  }\n",
              "\n",
              "  .colab-df-spinner {\n",
              "    border: 2px solid var(--fill-color);\n",
              "    border-color: transparent;\n",
              "    border-bottom-color: var(--fill-color);\n",
              "    animation:\n",
              "      spin 1s steps(1) infinite;\n",
              "  }\n",
              "\n",
              "  @keyframes spin {\n",
              "    0% {\n",
              "      border-color: transparent;\n",
              "      border-bottom-color: var(--fill-color);\n",
              "      border-left-color: var(--fill-color);\n",
              "    }\n",
              "    20% {\n",
              "      border-color: transparent;\n",
              "      border-left-color: var(--fill-color);\n",
              "      border-top-color: var(--fill-color);\n",
              "    }\n",
              "    30% {\n",
              "      border-color: transparent;\n",
              "      border-left-color: var(--fill-color);\n",
              "      border-top-color: var(--fill-color);\n",
              "      border-right-color: var(--fill-color);\n",
              "    }\n",
              "    40% {\n",
              "      border-color: transparent;\n",
              "      border-right-color: var(--fill-color);\n",
              "      border-top-color: var(--fill-color);\n",
              "    }\n",
              "    60% {\n",
              "      border-color: transparent;\n",
              "      border-right-color: var(--fill-color);\n",
              "    }\n",
              "    80% {\n",
              "      border-color: transparent;\n",
              "      border-right-color: var(--fill-color);\n",
              "      border-bottom-color: var(--fill-color);\n",
              "    }\n",
              "    90% {\n",
              "      border-color: transparent;\n",
              "      border-bottom-color: var(--fill-color);\n",
              "    }\n",
              "  }\n",
              "</style>\n",
              "\n",
              "  <script>\n",
              "    async function quickchart(key) {\n",
              "      const quickchartButtonEl =\n",
              "        document.querySelector('#' + key + ' button');\n",
              "      quickchartButtonEl.disabled = true;  // To prevent multiple clicks.\n",
              "      quickchartButtonEl.classList.add('colab-df-spinner');\n",
              "      try {\n",
              "        const charts = await google.colab.kernel.invokeFunction(\n",
              "            'suggestCharts', [key], {});\n",
              "      } catch (error) {\n",
              "        console.error('Error during call to suggestCharts:', error);\n",
              "      }\n",
              "      quickchartButtonEl.classList.remove('colab-df-spinner');\n",
              "      quickchartButtonEl.classList.add('colab-df-quickchart-complete');\n",
              "    }\n",
              "    (() => {\n",
              "      let quickchartButtonEl =\n",
              "        document.querySelector('#df-b57fe808-77b6-4f31-80a2-3d8e7bb9d8a8 button');\n",
              "      quickchartButtonEl.style.display =\n",
              "        google.colab.kernel.accessAllowed ? 'block' : 'none';\n",
              "    })();\n",
              "  </script>\n",
              "</div>\n",
              "\n",
              "  <div id=\"id_d98a2bf4-66ab-476d-8336-0ef9e63e8410\">\n",
              "    <style>\n",
              "      .colab-df-generate {\n",
              "        background-color: #E8F0FE;\n",
              "        border: none;\n",
              "        border-radius: 50%;\n",
              "        cursor: pointer;\n",
              "        display: none;\n",
              "        fill: #1967D2;\n",
              "        height: 32px;\n",
              "        padding: 0 0 0 0;\n",
              "        width: 32px;\n",
              "      }\n",
              "\n",
              "      .colab-df-generate:hover {\n",
              "        background-color: #E2EBFA;\n",
              "        box-shadow: 0px 1px 2px rgba(60, 64, 67, 0.3), 0px 1px 3px 1px rgba(60, 64, 67, 0.15);\n",
              "        fill: #174EA6;\n",
              "      }\n",
              "\n",
              "      [theme=dark] .colab-df-generate {\n",
              "        background-color: #3B4455;\n",
              "        fill: #D2E3FC;\n",
              "      }\n",
              "\n",
              "      [theme=dark] .colab-df-generate:hover {\n",
              "        background-color: #434B5C;\n",
              "        box-shadow: 0px 1px 3px 1px rgba(0, 0, 0, 0.15);\n",
              "        filter: drop-shadow(0px 1px 2px rgba(0, 0, 0, 0.3));\n",
              "        fill: #FFFFFF;\n",
              "      }\n",
              "    </style>\n",
              "    <button class=\"colab-df-generate\" onclick=\"generateWithVariable('movie_reviews')\"\n",
              "            title=\"Generate code using this dataframe.\"\n",
              "            style=\"display:none;\">\n",
              "\n",
              "  <svg xmlns=\"http://www.w3.org/2000/svg\" height=\"24px\"viewBox=\"0 0 24 24\"\n",
              "       width=\"24px\">\n",
              "    <path d=\"M7,19H8.4L18.45,9,17,7.55,7,17.6ZM5,21V16.75L18.45,3.32a2,2,0,0,1,2.83,0l1.4,1.43a1.91,1.91,0,0,1,.58,1.4,1.91,1.91,0,0,1-.58,1.4L9.25,21ZM18.45,9,17,7.55Zm-12,3A5.31,5.31,0,0,0,4.9,8.1,5.31,5.31,0,0,0,1,6.5,5.31,5.31,0,0,0,4.9,4.9,5.31,5.31,0,0,0,6.5,1,5.31,5.31,0,0,0,8.1,4.9,5.31,5.31,0,0,0,12,6.5,5.46,5.46,0,0,0,6.5,12Z\"/>\n",
              "  </svg>\n",
              "    </button>\n",
              "    <script>\n",
              "      (() => {\n",
              "      const buttonEl =\n",
              "        document.querySelector('#id_d98a2bf4-66ab-476d-8336-0ef9e63e8410 button.colab-df-generate');\n",
              "      buttonEl.style.display =\n",
              "        google.colab.kernel.accessAllowed ? 'block' : 'none';\n",
              "\n",
              "      buttonEl.onclick = () => {\n",
              "        google.colab.notebook.generateWithVariable('movie_reviews');\n",
              "      }\n",
              "      })();\n",
              "    </script>\n",
              "  </div>\n",
              "\n",
              "    </div>\n",
              "  </div>\n"
            ],
            "application/vnd.google.colaboratory.intrinsic+json": {
              "type": "dataframe",
              "variable_name": "movie_reviews",
              "summary": "{\n  \"name\": \"movie_reviews\",\n  \"rows\": 50000,\n  \"fields\": [\n    {\n      \"column\": \"review\",\n      \"properties\": {\n        \"dtype\": \"string\",\n        \"num_unique_values\": 49582,\n        \"samples\": [\n          \"\\\"Soul Plane\\\" is a horrible attempt at comedy that only should appeal people with thick skulls, bloodshot eyes and furry pawns. <br /><br />The plot is not only incoherent but also non-existent, acting is mostly sub sub-par with a gang of highly moronic and dreadful characters thrown in for bad measure, jokes are often spotted miles ahead and almost never even a bit amusing. This movie lacks any structure and is full of racial stereotypes that must have seemed old even in the fifties, the only thing it really has going for it is some pretty ladies, but really, if you want that you can rent something from the \\\"Adult\\\" section. OK?<br /><br />I can hardly see anything here to recommend since you'll probably have a lot a better and productive time chasing rats with a sledgehammer or inventing waterproof teabags or whatever.<br /><br />2/10\",\n          \"Guest from the Future tells a fascinating story of time travel, friendship, battle of good and evil -- all with a small budget, child actors, and few special effects. Something for Spielberg and Lucas to learn from. ;) A sixth-grader Kolya \\\"Nick\\\" Gerasimov finds a time machine in the basement of a decrepit building and travels 100 years into the future. He discovers a near-perfect, utopian society where robots play guitars and write poetry, everyone is kind to each other and people enjoy everything technology has to offer. Alice is the daughter of a prominent scientist who invented a device called Mielophone that allows to read minds of humans and animals. The device can be put to both good and bad use, depending on whose hands it falls into. When two evil space pirates from Saturn who want to rule the universe attempt to steal Mielophone, it falls into the hands of 20th century school boy Nick. With the pirates hot on his tracks, he travels back to his time, followed by the pirates, and Alice. Chaos, confusion and funny situations follow as the luckless pirates try to blend in with the earthlings. Alice enrolls in the same school Nick goes to and demonstrates superhuman abilities in PE class. The catch is, Alice doesn't know what Nick looks like, while the pirates do. Also, the pirates are able to change their appearance and turn literally into anyone. (Hmm, I wonder if this is where James Cameron got the idea for Terminator...) Who gets to Nick -- and Mielophone -- first? Excellent plot, non-stop adventures, and great soundtrack. I wish Hollywood made kid movies like this one...\",\n          \"\\\"National Treasure\\\" (2004) is a thoroughly misguided hodge-podge of plot entanglements that borrow from nearly every cloak and dagger government conspiracy clich\\u00e9 that has ever been written. The film stars Nicholas Cage as Benjamin Franklin Gates (how precious is that, I ask you?); a seemingly normal fellow who, for no other reason than being of a lineage of like-minded misguided fortune hunters, decides to steal a 'national treasure' that has been hidden by the United States founding fathers. After a bit of subtext and background that plays laughably (unintentionally) like Indiana Jones meets The Patriot, the film degenerates into one misguided whimsy after another \\u0096 attempting to create a 'Stanley Goodspeed' regurgitation of Nicholas Cage and launch the whole convoluted mess forward with a series of high octane, but disconnected misadventures.<br /><br />The relevancy and logic to having George Washington and his motley crew of patriots burying a king's ransom someplace on native soil, and then, going through the meticulous plan of leaving clues scattered throughout U.S. currency art work, is something that director Jon Turteltaub never quite gets around to explaining. Couldn't Washington found better usage for such wealth during the start up of the country? Hence, we are left with a mystery built on top of an enigma that is already on shaky ground by the time Ben appoints himself the new custodian of this untold wealth. Ben's intentions are noble \\u0096 if confusing. He's set on protecting the treasure. For who and when?\\u0085your guess is as good as mine.<br /><br />But there are a few problems with Ben's crusade. First up, his friend, Ian Holmes (Sean Bean) decides that he can't wait for Ben to make up his mind about stealing the Declaration of Independence from the National Archives (oh, yeah \\u0096 brilliant idea!). Presumably, the back of that famous document holds the secret answer to the ultimate fortune. So Ian tries to kill Ben. The assassination attempt is, of course, unsuccessful, if overly melodramatic. It also affords Ben the opportunity to pick up, and pick on, the very sultry curator of the archives, Abigail Chase (Diane Kruger). She thinks Ben is clearly a nut \\u0096 at least at the beginning. But true to action/romance form, Abby's resolve melts quicker than you can say, \\\"is that the Hope Diamond?\\\" The film moves into full X-File-ish mode, as the FBI, mistakenly believing that Ben is behind the theft, retaliate in various benign ways that lead to a multi-layering of action sequences reminiscent of Mission Impossible meets The Fugitive. Honestly, don't those guys ever get 'intelligence' information that is correct? In the final analysis, \\\"National Treasure\\\" isn't great film making, so much as it's a patchwork rehash of tired old bits from other movies, woven together from scraps, the likes of which would make IL' Betsy Ross blush.<br /><br />The Buena Vista DVD delivers a far more generous treatment than this film is deserving of. The anamorphic widescreen picture exhibits a very smooth and finely detailed image with very rich colors, natural flesh tones, solid blacks and clean whites. The stylized image is also free of blemishes and digital enhancements. The audio is 5.1 and delivers a nice sonic boom to your side and rear speakers with intensity and realism. Extras include a host of promotional junket material that is rather deep and over the top in its explanation of how and why this film was made. If only, as an audience, we had had more clarification as to why Ben and co. were chasing after an illusive treasure, this might have been one good flick. Extras conclude with the theatrical trailer, audio commentary and deleted scenes. Not for the faint-hearted \\u0096 just the thick-headed.\"\n        ],\n        \"semantic_type\": \"\",\n        \"description\": \"\"\n      }\n    },\n    {\n      \"column\": \"sentiment\",\n      \"properties\": {\n        \"dtype\": \"category\",\n        \"num_unique_values\": 2,\n        \"samples\": [\n          \"negative\",\n          \"positive\"\n        ],\n        \"semantic_type\": \"\",\n        \"description\": \"\"\n      }\n    }\n  ]\n}"
            }
          },
          "metadata": {},
          "execution_count": 14
        }
      ]
    },
    {
      "cell_type": "code",
      "source": [
        "movie_reviews.isnull().values.any()"
      ],
      "metadata": {
        "colab": {
          "base_uri": "https://localhost:8080/"
        },
        "id": "6Q5y_NlupP3G",
        "outputId": "3b1385cd-4ba3-4439-d57c-cf87c3460c7b"
      },
      "execution_count": 15,
      "outputs": [
        {
          "output_type": "execute_result",
          "data": {
            "text/plain": [
              "False"
            ]
          },
          "metadata": {},
          "execution_count": 15
        }
      ]
    },
    {
      "cell_type": "markdown",
      "source": [
        "### Visualizing Dataset"
      ],
      "metadata": {
        "id": "oxmlzE9frI8h"
      }
    },
    {
      "cell_type": "code",
      "source": [
        "import seaborn as sns\n",
        "import matplotlib.pyplot as plt\n",
        "\n",
        "# Define custom colors for each sentiment\n",
        "colors = {\"positive\": \"green\", \"negative\": \"red\"}\n",
        "\n",
        "# Create the countplot with custom colors\n",
        "sns.countplot(x=\"sentiment\", data=movie_reviews, palette=colors)\n",
        "\n",
        "# Show the plot\n",
        "plt.show()"
      ],
      "metadata": {
        "colab": {
          "base_uri": "https://localhost:8080/",
          "height": 556
        },
        "id": "CDHutBkZpP78",
        "outputId": "3e473ba4-756d-4ad2-da2b-7fc16a4dfc45"
      },
      "execution_count": 16,
      "outputs": [
        {
          "output_type": "stream",
          "name": "stderr",
          "text": [
            "<ipython-input-16-27d17567fdb8>:8: FutureWarning: \n",
            "\n",
            "Passing `palette` without assigning `hue` is deprecated and will be removed in v0.14.0. Assign the `x` variable to `hue` and set `legend=False` for the same effect.\n",
            "\n",
            "  sns.countplot(x=\"sentiment\", data=movie_reviews, palette=colors)\n"
          ]
        },
        {
          "output_type": "display_data",
          "data": {
            "text/plain": [
              "<Figure size 640x480 with 1 Axes>"
            ],
            "image/png": "[encoded data removed]"
          },
          "metadata": {}
        }
      ]
    },
    {
      "cell_type": "code",
      "source": [
        "movie_reviews[\"review\"][2]\n"
      ],
      "metadata": {
        "colab": {
          "base_uri": "https://localhost:8080/",
          "height": 140
        },
        "id": "7e_kkaUepQAs",
        "outputId": "624d8c15-5a16-4f79-f1bd-45d12b92fd1d"
      },
      "execution_count": 17,
      "outputs": [
        {
          "output_type": "execute_result",
          "data": {
            "text/plain": [
              "'I thought this was a wonderful way to spend time on a too hot summer weekend, sitting in the air conditioned theater and watching a light-hearted comedy. The plot is simplistic, but the dialogue is witty and the characters are likable (even the well bread suspected serial killer). While some may be disappointed when they realize this is not Match Point 2: Risk Addiction, I thought it was proof that Woody Allen is still fully in control of the style many of us have grown to love.<br /><br />This was the most I\\'d laughed at one of Woody\\'s comedies in years (dare I say a decade?). While I\\'ve never been impressed with Scarlet Johanson, in this she managed to tone down her \"sexy\" image and jumped right into a average, but spirited young woman.<br /><br />This may not be the crown jewel of his career, but it was wittier than \"Devil Wears Prada\" and more interesting than \"Superman\" a great comedy to go see with friends.'"
            ],
            "application/vnd.google.colaboratory.intrinsic+json": {
              "type": "string"
            }
          },
          "metadata": {},
          "execution_count": 17
        }
      ]
    },
    {
      "cell_type": "code",
      "source": [
        "sentiment_counts = movie_reviews['sentiment'].value_counts()\n",
        "print(sentiment_counts)"
      ],
      "metadata": {
        "colab": {
          "base_uri": "https://localhost:8080/"
        },
        "id": "Fv0mhITKGjBc",
        "outputId": "45a0d247-c728-434b-d7a8-e125648fe324"
      },
      "execution_count": 18,
      "outputs": [
        {
          "output_type": "stream",
          "name": "stdout",
          "text": [
            "sentiment\n",
            "positive    25000\n",
            "negative    25000\n",
            "Name: count, dtype: int64\n"
          ]
        }
      ]
    },
    {
      "cell_type": "markdown",
      "source": [
        "### Stopwords from NLTK to remove commonly used words like \"the\", \"is\", \"and\", etc"
      ],
      "metadata": {
        "id": "kagr5koVrwmR"
      }
    },
    {
      "cell_type": "code",
      "source": [
        "import nltk\n",
        "from nltk.corpus import stopwords"
      ],
      "metadata": {
        "id": "4keLejcJ_wtX"
      },
      "execution_count": 19,
      "outputs": []
    },
    {
      "cell_type": "code",
      "source": [
        "try:\n",
        "    nltk.data.find('corpora/stopwords')\n",
        "except LookupError:\n",
        "    nltk.download('stopwords')"
      ],
      "metadata": {
        "colab": {
          "base_uri": "https://localhost:8080/"
        },
        "id": "xxQdN4pypQN-",
        "outputId": "1cef416a-1872-4c8b-e749-9ff5a6497731"
      },
      "execution_count": 20,
      "outputs": [
        {
          "output_type": "stream",
          "name": "stderr",
          "text": [
            "[nltk_data] Downloading package stopwords to /root/nltk_data...\n",
            "[nltk_data]   Unzipping corpora/stopwords.zip.\n"
          ]
        }
      ]
    },
    {
      "cell_type": "code",
      "source": [
        "\n",
        "class TextPreprocessor:\n",
        "    def __init__(self):\n",
        "        # Use NLTK's predefined stopwords for English\n",
        "        self.stopwords = set(stopwords.words('english'))\n",
        "\n",
        "    def clean_html(self, text):\n",
        "        html_pattern = re.compile('<.*?>')\n",
        "        return html_pattern.sub('', text)\n",
        "\n",
        "    def preprocess_text(self, text):\n",
        "        # Convert to lowercase\n",
        "        text = text.lower()\n",
        "\n",
        "        # Remove HTML tags\n",
        "        text = self.clean_html(text)\n",
        "\n",
        "        # Remove punctuations and numbers\n",
        "        text = re.sub('[^a-zA-Z]', ' ', text)\n",
        "\n",
        "        # Remove single characters\n",
        "        text = re.sub(r'\\s+[a-zA-Z]\\s+', ' ', text)\n",
        "\n",
        "        # Remove multiple spaces\n",
        "        text = re.sub(r'\\s+', ' ', text)\n",
        "\n",
        "        # Remove stopwords\n",
        "        words = text.split()\n",
        "        filtered_words = [word for word in words if word not in self.stopwords]\n",
        "\n",
        "        return ' '.join(filtered_words)"
      ],
      "metadata": {
        "id": "guVgX--8pQSw"
      },
      "execution_count": 21,
      "outputs": []
    },
    {
      "cell_type": "code",
      "source": [
        "text_processor=TextPreprocessor()"
      ],
      "metadata": {
        "id": "8c9_NCHRBGJ8"
      },
      "execution_count": 22,
      "outputs": []
    },
    {
      "cell_type": "code",
      "source": [
        "X = []\n",
        "sentences = list(movie_reviews['review'])\n",
        "for sen in sentences:\n",
        "    X.append(text_processor.preprocess_text(sen))"
      ],
      "metadata": {
        "id": "-mXj7oIoAcEo"
      },
      "execution_count": 23,
      "outputs": []
    },
    {
      "cell_type": "code",
      "source": [
        "y = np.array(list(map(lambda x: 1 if x==\"positive\" else 0, movie_reviews['sentiment']))) # positive: 1, negative: 0"
      ],
      "metadata": {
        "id": "htI89fFjBO7m"
      },
      "execution_count": 44,
      "outputs": []
    },
    {
      "cell_type": "code",
      "source": [
        "X[0]"
      ],
      "metadata": {
        "colab": {
          "base_uri": "https://localhost:8080/",
          "height": 140
        },
        "id": "8JTccdq-ys7U",
        "outputId": "e8d209de-e67b-41cd-d54d-fcccd14fb749"
      },
      "execution_count": 45,
      "outputs": [
        {
          "output_type": "execute_result",
          "data": {
            "text/plain": [
              "'one reviewers mentioned watching oz episode hooked right exactly happened first thing struck oz brutality unflinching scenes violence set right word go trust show faint hearted timid show pulls punches regards drugs sex violence hardcore classic use word called oz nickname given oswald maximum security state penitentary focuses mainly emerald city experimental section prison cells glass fronts face inwards privacy high agenda em city home many aryans muslims gangstas latinos christians italians irish scuffles death stares dodgy dealings shady agreements never far away would say main appeal show due fact goes shows dare forget pretty pictures painted mainstream audiences forget charm forget romance oz mess around first episode ever saw struck nasty surreal say ready watched developed taste oz got accustomed high levels graphic violence violence injustice crooked guards sold nickel inmates kill order get away well mannered middle class inmates turned prison bitches due lack street skills prison experience watching oz may become comfortable uncomfortable viewing thats get touch darker side'"
            ],
            "application/vnd.google.colaboratory.intrinsic+json": {
              "type": "string"
            }
          },
          "metadata": {},
          "execution_count": 45
        }
      ]
    },
    {
      "cell_type": "code",
      "source": [
        "len(X)"
      ],
      "metadata": {
        "colab": {
          "base_uri": "https://localhost:8080/"
        },
        "id": "qBnKPnJLyQV9",
        "outputId": "898ebe48-a1f7-464a-9b16-05acdbec87df"
      },
      "execution_count": 46,
      "outputs": [
        {
          "output_type": "execute_result",
          "data": {
            "text/plain": [
              "50000"
            ]
          },
          "metadata": {},
          "execution_count": 46
        }
      ]
    },
    {
      "cell_type": "code",
      "source": [
        "y"
      ],
      "metadata": {
        "colab": {
          "base_uri": "https://localhost:8080/"
        },
        "id": "gfVAtMV3yQPW",
        "outputId": "bb035d26-0eb7-4bac-bf90-d65d88737421"
      },
      "execution_count": 47,
      "outputs": [
        {
          "output_type": "execute_result",
          "data": {
            "text/plain": [
              "array([1, 1, 1, ..., 0, 0, 0])"
            ]
          },
          "metadata": {},
          "execution_count": 47
        }
      ]
    },
    {
      "cell_type": "code",
      "source": [
        "import numpy as np\n",
        "import pandas as pd\n",
        "from wordcloud import WordCloud\n",
        "import matplotlib.pyplot as plt\n",
        "from mpl_toolkits.mplot3d import Axes3D\n",
        "from collections import Counter\n",
        "import matplotlib.colors as mcolors\n",
        "import plotly.graph_objects as go\n",
        "\n"
      ],
      "metadata": {
        "id": "13gDp51ByQBv"
      },
      "execution_count": 55,
      "outputs": []
    },
    {
      "cell_type": "code",
      "source": [
        "df = pd.DataFrame({'text': X, 'sentiment': y})\n"
      ],
      "metadata": {
        "id": "vp9keKl4zjQc"
      },
      "execution_count": 49,
      "outputs": []
    },
    {
      "cell_type": "code",
      "source": [
        "df.to_csv('file1.csv')\n"
      ],
      "metadata": {
        "id": "p_3NKbRs1DPK"
      },
      "execution_count": 50,
      "outputs": []
    },
    {
      "cell_type": "code",
      "source": [
        "\n",
        "# Separate positive and negative texts\n",
        "positive_texts = ' '.join(df[df['sentiment'] == 1]['text']).split()\n",
        "negative_texts = ' '.join(df[df['sentiment'] == 0]['text']).split()\n",
        "\n",
        "# Count word frequencies for each sentiment\n",
        "positive_word_counts = Counter(positive_texts)\n",
        "negative_word_counts = Counter(negative_texts)\n",
        "\n",
        "# Get all unique words\n",
        "all_words = set(positive_word_counts.keys()).union(set(negative_word_counts.keys()))"
      ],
      "metadata": {
        "id": "xeJS6c7D0rZI"
      },
      "execution_count": 51,
      "outputs": []
    },
    {
      "cell_type": "code",
      "source": [
        "# Calculate word metrics\n",
        "word_data = []\n",
        "for word in all_words:\n",
        "    # Skip very short words (often not meaningful)\n",
        "    if len(word) < 3:\n",
        "        continue\n",
        "\n",
        "    pos_count = positive_word_counts.get(word, 0)\n",
        "    neg_count = negative_word_counts.get(word, 0)\n",
        "    total_count = pos_count + neg_count\n",
        "\n",
        "    # Lower the frequency threshold to include more words\n",
        "    if total_count < 5:  # Reduced from 10 to 5\n",
        "        continue\n",
        "\n",
        "    # Calculate sentiment score between -1 (negative) and 1 (positive)\n",
        "    sentiment_score = (pos_count - neg_count) / total_count\n",
        "\n",
        "    word_data.append({\n",
        "        'word': word,\n",
        "        'pos_count': pos_count,\n",
        "        'neg_count': neg_count,\n",
        "        'total_count': total_count,\n",
        "        'sentiment_score': sentiment_score\n",
        "    })\n",
        "\n",
        "# Check if we have any words\n",
        "if not word_data:\n",
        "    raise ValueError(\"No words met the filtering criteria. Try reducing the minimum frequency threshold.\")\n",
        "\n",
        "# Sort by total frequency and take top words - use more words to fill the sphere\n",
        "word_data.sort(key=lambda x: x['total_count'], reverse=True)\n",
        "top_words = word_data[:500]  # Increased to 500 words for better coverage\n",
        "\n",
        "print(f\"Using {len(top_words)} words for visualization\")\n",
        "\n",
        "# Create balanced distribution of positive and negative words\n",
        "pos_words = [w for w in word_data if w['sentiment_score'] > 0]\n",
        "neg_words = [w for w in word_data if w['sentiment_score'] <= 0]\n",
        "\n",
        "# Take equal numbers of positive and negative words if possible\n",
        "max_per_category = min(250, len(pos_words), len(neg_words))\n",
        "pos_words = pos_words[:max_per_category]\n",
        "neg_words = neg_words[:max_per_category]\n",
        "\n",
        "# Combine them\n",
        "balanced_words = pos_words + neg_words\n",
        "\n",
        "# Use the combined list or the original if we don't have enough words\n",
        "selected_words = balanced_words if len(balanced_words) >= 100 else top_words\n",
        "\n",
        "# Create spherical coordinates for more even distribution across the sphere\n",
        "n_points = len(selected_words)\n",
        "\n",
        "# Golden spiral algorithm for evenly distributing points on a sphere\n",
        "indices = np.arange(0, n_points, dtype=float) + 0.5\n",
        "phi = np.arccos(1 - 2*indices/n_points)\n",
        "theta = np.pi * (1 + 5**0.5) * indices\n",
        "\n",
        "# Adjust theta based on sentiment to cluster similar sentiment words\n",
        "sentiment_values = np.array([w['sentiment_score'] for w in selected_words])\n",
        "theta_adjustment = np.pi * sentiment_values / 2  # Scale to half circle\n",
        "theta = theta + theta_adjustment\n",
        "\n",
        "# Convert to Cartesian coordinates\n",
        "r = 1.0  # Unit sphere\n",
        "x = r * np.sin(phi) * np.cos(theta)\n",
        "y = r * np.sin(phi) * np.sin(theta)\n",
        "z = r * np.cos(phi)\n",
        "\n",
        "# Add some random variation to prevent exact overlaps\n",
        "variation = 0.1\n",
        "x += np.random.uniform(-variation, variation, n_points)\n",
        "y += np.random.uniform(-variation, variation, n_points)\n",
        "z += np.random.uniform(-variation, variation, n_points)\n",
        "\n",
        "# Re-normalize to keep points on sphere surface\n",
        "magnitudes = np.sqrt(x**2 + y**2 + z**2)\n",
        "x /= magnitudes\n",
        "y /= magnitudes\n",
        "z /= magnitudes\n",
        "\n",
        "# Calculate appropriate marker sizes - make all similar size\n",
        "min_size = 8\n",
        "max_size = 14\n",
        "sizes = np.ones(n_points) * min_size\n",
        "# Add slight variation based on frequency (less pronounced)\n",
        "log_frequencies = np.log1p(np.array([w['total_count'] for w in selected_words]))\n",
        "if len(np.unique(log_frequencies)) > 1:\n",
        "    normalized_freq = (log_frequencies - log_frequencies.min()) / (log_frequencies.max() - log_frequencies.min() + 1e-10)\n",
        "    sizes += normalized_freq * (max_size - min_size) * 0.5  # Reduced influence of frequency\n",
        "\n",
        "# Create the 3D scatter plot with Plotly\n",
        "fig = go.Figure()\n",
        "\n",
        "# Add the word markers\n",
        "fig.add_trace(go.Scatter3d(\n",
        "    x=x,\n",
        "    y=y,\n",
        "    z=z,\n",
        "    mode='markers+text',\n",
        "    marker=dict(\n",
        "        size=sizes,\n",
        "        color=sentiment_values,\n",
        "        colorscale='RdBu',\n",
        "        colorbar=dict(\n",
        "            title='Sentiment',\n",
        "            titleside='right'\n",
        "        ),\n",
        "        opacity=0.7\n",
        "    ),\n",
        "    text=[w['word'] for w in selected_words],\n",
        "    textposition='middle center',\n",
        "    textfont=dict(\n",
        "        # Use regular font (not bold)\n",
        "        color='black',\n",
        "        size=10,  # Fixed size for all text\n",
        "        family=\"Arial, sans-serif\"  # Regular font\n",
        "    ),\n",
        "    hovertemplate='<b>%{text}</b><br>Sentiment: %{marker.color:.2f}<extra></extra>'\n",
        "))\n",
        "\n",
        "# Update the layout to hide axes and make the background transparent\n",
        "fig.update_layout(\n",
        "    scene=dict(\n",
        "        xaxis=dict(visible=False, showticklabels=False, showgrid=False, zeroline=False, showbackground=False, title=''),\n",
        "        yaxis=dict(visible=False, showticklabels=False, showgrid=False, zeroline=False, showbackground=False, title=''),\n",
        "        zaxis=dict(visible=False, showticklabels=False, showgrid=False, zeroline=False, showbackground=False, title=''),\n",
        "        bgcolor='rgba(240,240,240,0.95)',  # Light gray background\n",
        "    ),\n",
        "    width=900,\n",
        "    height=800,\n",
        "    margin=dict(l=0, r=0, t=30, b=0),\n",
        "    paper_bgcolor='rgba(255,255,255,1)',\n",
        "    scene_camera=dict(\n",
        "        eye=dict(x=1.8, y=1.8, z=1.2)\n",
        "    ),\n",
        "    title=dict(\n",
        "        text='Interactive 3D Word Sphere by Sentiment',\n",
        "        y=0.95\n",
        "    )\n",
        ")\n",
        "\n",
        "# Show the interactive 3D visualization\n",
        "fig.show()"
      ],
      "metadata": {
        "colab": {
          "base_uri": "https://localhost:8080/",
          "height": 834
        },
        "id": "1_E77lxs04Kh",
        "outputId": "50662ea0-f432-4110-a8c0-21417ac36b2e"
      },
      "execution_count": 59,
      "outputs": [
        {
          "output_type": "stream",
          "name": "stdout",
          "text": [
            "Using 500 words for visualization\n"
          ]
        },
        {
          "output_type": "display_data",
          "data": {
            "text/html": [
              "<html>\n",
              "<head><meta charset=\"utf-8\" /></head>\n",
              "<body>\n",
              "    <div>            <script src=\"https://cdnjs.cloudflare.com/ajax/libs/mathjax/2.7.5/MathJax.js?config=TeX-AMS-MML_SVG\"></script><script type=\"text/javascript\">if (window.MathJax && window.MathJax.Hub && window.MathJax.Hub.Config) {window.MathJax.Hub.Config({SVG: {font: \"STIX-Web\"}});}</script>                <script type=\"text/javascript\">window.PlotlyConfig = {MathJaxConfig: 'local'};</script>\n",
              "        <script charset=\"utf-8\" src=\"https://cdn.plot.ly/plotly-2.35.2.min.js\"></script>                <div id=\"90ef0d83-b7c9-431b-879c-0fbefbab22c5\" class=\"plotly-graph-div\" style=\"height:800px; width:900px;\"></div>            <script type=\"text/javascript\">                                    window.PLOTLYENV=window.PLOTLYENV || {};                                    if (document.getElementById(\"90ef0d83-b7c9-431b-879c-0fbefbab22c5\")) {                    Plotly.newPlot(                        \"90ef0d83-b7c9-431b-879c-0fbefbab22c5\",                        [{\"hovertemplate\":\"\\u003cb\\u003e%{text}\\u003c\\u002fb\\u003e\\u003cbr\\u003eSentiment: %{marker.color:.2f}\\u003cextra\\u003e\\u003c\\u002fextra\\u003e\",\"marker\":{\"color\":[0.05665445052462473,0.019389754595502472,0.010189326428355247,0.01565799434240408,0.11916919082648204,0.06607010989965684,0.19698965192850423,0.4292330594916469,0.20097930113509904,0.05006827492034593,0.005369470723600102,0.005510987094523892,0.10500290866783013,0.05745089351646729,0.13448378458792026,0.011067903081064912,0.33615254497924035,0.2601254549678618,0.0657499604868026,0.3494568234081358,0.03909895414320193,0.14343707713125844,0.18323353293413175,0.0296640826873385,0.08465945257797582,0.22808219178082192,0.05897142857142857,0.010404624277456647,0.047050561797752806,0.13109425785482123,0.0868824531516184,0.14617570740145805,0.05332178646542125,0.027013316423589093,0.2680453635757171,0.11305753941517316,0.13885070112730272,0.27037773359840955,0.007903434401494467,0.0031618281115263006,0.0008720930232558139,0.15706727135298565,0.08504488057203712,0.23783371472158657,0.06923429619440624,0.012867647058823529,0.011391625615763547,0.20989945862335654,0.007766387076731904,0.12146003775959723,0.09320296483204542,0.2839076825798293,0.2178060413354531,0.014464488867219242,0.11766677841099564,0.25569534172050323,0.08536167295166266,0.050871080139372825,0.06650289524477979,0.3176597272074659,0.1190215407082877,0.23094045631608237,0.010486891385767791,0.14117199391171995,0.20555341303509447,0.02868217054263566,0.02461294164350933,0.17285429141716566,0.24910035985605758,0.21248986212489862,0.08708094848732624,0.04367720465890183,0.003787878787878788,0.013894736842105264,0.027095681625740897,0.24165781083953242,0.052989997871887635,0.0663527397260274,0.26302250803858523,0.00516795865633075,0.10747051114023591,0.13062665489849956,0.2638335546702081,0.08758636059728103,0.08673355629877369,0.2704035874439462,0.13573033707865167,0.3723021582733813,0.2123730378578024,0.18887330528284246,0.13481828839390386,0.20198206701274185,0.02551984877126654,0.44144144144144143,0.01098901098901099,0.05969791416926397,0.14063638571775564,0.05401459854014599,0.6366739819556205,0.05461767626613704,0.043914680050188205,0.09989858012170386,0.035960214231063506,0.23902439024390243,0.11271975180972078,0.09114583333333333,0.04647519582245431,0.11431567907708443,0.11122937732836616,0.1344,0.1234134485552255,0.04880694143167028,0.07792560412707032,0.07154650522839846,0.23184357541899442,0.31283198210791163,0.08589129822585187,0.35450643776824037,0.1673398730525101,0.22081740664510438,0.12744802651401024,0.038984587488667274,0.01762917933130699,0.13227189222290264,0.05100463678516229,0.27391304347826084,0.6578538102643857,0.20959202740579258,0.043125,0.1414267834793492,0.22148916116870876,0.1660377358490566,0.17869524109675386,0.08900855242318657,0.5432921027592769,0.16283524904214558,0.023642172523961662,0.19782330345710628,0.3292604501607717,0.13961775186264982,0.2968393613554904,0.06564478507164279,0.2094888072168393,0.10879083866621758,0.13708319299427416,0.034927093930145814,0.21984369690791708,0.18626784500339905,0.19264805990469708,0.17598908594815826,0.530940170940171,0.12624016421484777,0.10233516483516483,0.09465595529165212,0.11258741258741259,0.09523809523809523,0.24991162955107812,0.014245014245014245,0.048270893371757925,0.15667870036101084,0.10097719869706841,0.11798980335032774,0.12243401759530792,0.29773822766036334,0.07389528406981062,0.07204180664427025,0.12345215759849906,0.08308157099697885,0.12009149828440717,0.12504780114722752,0.11076804322655345,0.20772200772200772,0.3876755070202808,0.10884886452623337,0.2667976424361493,0.14218196140212683,0.07552392249901146,0.5903136165144899,0.4931945556445156,0.1591182364729459,0.06993569131832797,0.3125506072874494,0.009716599190283401,0.08292682926829269,0.04333605887162715,0.08649093904448106,0.15889393314073463,0.09181141439205956,0.07991718426501035,0.4236024844720497,0.553712152633762,0.007481296758104738,0.07833333333333334,0.09090909090909091,0.5420678107994977,0.05961376994122586,0.20202020202020202,0.28885135135135137,0.14456289978678039,0.0322026620867325,0.21222557038312526,0.021481806225339763,0.009649122807017544,0.0013163668275559457,0.4929701230228471,0.025322079075966238,0.17309417040358743,0.0018034265103697023,0.08208616780045351,0.26578827805542937,0.06976744186046512,0.08939323761000463,0.15960912052117263,0.009790209790209791,0.05381375760411792,0.11610486891385768,0.2272300469483568,0.42992424242424243,0.19696969696969696,0.07129277566539924,0.3396764985727878,0.23804971319311663,0.09099616858237548,0.17049808429118773,0.174496644295302,0.13173076923076923,0.18807118807118808,0.2670207629164655,0.32365747460087085,0.20290556900726392,0.19474196689386564,0.2607421875,0.15225933202357564,0.10892065056678167,0.055692459339576145,0.19703703703703704,0.12617516081147948,0.13620604259534422,0.22686567164179106,0.2087912087912088,0.002014098690835851,0.011622031328954016,0.0025265285497726125,0.07048008171603677,0.0767656090071648,0.17301750772399588,0.21321631388745482,0.23593185338151781,0.30709476954945625,0.025454545454545455,-0.139247415763558,-0.11807768924302789,-0.2265046668812359,-0.1386641733403797,-0.07007362494586401,-0.047318285359287636,-0.5940631601755051,-0.10008145533532446,-0.04124958750412496,-0.08978328173374613,-0.17638915109181297,-0.19501381481719463,-0.08633422652114241,-0.01716975906950983,-0.035145603213312296,-0.004028776978417266,-0.023961784420987748,-0.26464241676942046,-0.25727173743972626,-0.07787016309561881,-0.09234608985024959,-0.1785401715385962,-0.03427800269905533,-0.055656934306569344,-0.09705581870530323,-0.06818181818181818,-0.15406604238541152,-0.2597841491333261,-0.16746724890829695,-0.11086276262852034,-0.09245797364834166,-0.06087949743003998,-0.038089691322073384,-0.2005669737774628,-0.4053279178114921,-0.09128180393102617,-0.13127365978751984,-0.011049723756906077,-0.006680299931833674,-0.13612708846891264,-0.17517241379310344,-0.15949227373068434,-0.0795692910082506,-0.12157195363302234,-0.0193326650436775,-0.10336884537863518,-0.056821459475050476,-0.06838597507968705,-0.1543818920487522,-0.09549388242315726,-0.27782125528251683,-0.16569262359816775,-0.0034976152623211448,-0.009587727708533078,-0.06720128307939054,-0.16065361591975408,-0.07316283586921334,-0.16895424836601308,-0.3005571943625041,-0.10829300850992825,-0.38012485237050786,-0.46070091867982305,-0.15277058518902123,-0.11807479224376731,-0.2754075615678113,-0.04751735184196476,-0.10293852532900667,-0.04882918860047195,-0.0407717510010921,-0.07480461481205805,-0.8327395462216388,-0.05686756092952957,-0.04583333333333333,-0.04817905918057663,-0.16389548693586697,-0.15527950310559005,-0.21524663677130046,-0.008915612689197595,-0.04665825977301387,-0.12213579987387009,-0.08635214827295704,-0.21807050876081907,-0.17541994471613864,-0.07311781297461488,-0.2604347826086956,-0.1080669710806697,-0.313064551663362,-0.25723117686023406,-0.2870718232044199,-0.387139689578714,-0.01621861808487003,-0.009672961768770152,-0.052802223251505326,-0.34692931633835455,-0.286742512189459,-0.10125406409660938,-0.09193776520509193,-0.07637739418302199,-0.10634239389604197,-0.11181485992691839,-0.015717092337917484,-0.28585461689587427,-0.23458646616541354,-0.02764143632136399,-0.2932642487046632,-0.1363400725764645,-0.5752212389380531,-0.2554135142186277,-0.09891849116328146,-0.07733191602444858,-0.14331983805668017,-0.10827679782903664,-0.029956427015250545,-0.2781258512666848,-0.6445054945054945,-0.2137892688351404,-0.10350584307178631,-0.14094707520891364,-0.26876918783142617,-0.3195530726256983,-0.0447427293064877,-0.0734304932735426,-0.07610221847795563,-0.05630630630630631,-0.02461103253182461,-0.6804532577903682,-0.0362339514978602,-0.18550474547023296,-0.07647907647907648,-0.17167630057803468,-0.8235123367198839,-0.22456140350877193,-0.1363236587510994,-0.12999703879182706,-0.7418967587034814,-0.32291040288635,-0.09507998792635074,-0.02576538344953016,-0.14259541984732824,-0.01757631822386679,-0.03896103896103896,-0.13024,-0.0311796849887496,-0.17049498544160466,-0.26976895541815815,-0.14970453053184504,-0.10800930541708209,-0.09090909090909091,-0.06364545151616129,-0.092,-0.13694054776219106,-0.15906040268456376,-0.686861810755616,-0.1767109295199183,-0.14893617021276595,-0.1088695652173913,-0.18213538032100487,-0.16765838291914595,-0.5742296918767507,-0.08274398868458274,-0.303202846975089,-0.8728904847396768,-0.1727405247813411,-0.2217756667884545,-0.18556701030927836,-0.10757855822550831,-0.26230114687384387,-0.11827956989247312,-0.04712430426716141,-0.3629242819843342,-0.11608809257185516,-0.037757009345794394,-0.10205607476635514,-0.27396741189844637,-0.3714721586575134,-0.0703902065799541,-0.26964074220292145,-0.219009900990099,-0.7297939778129953,-0.0939624150339864,-0.15173527037933818,-0.24149108589951376,-0.30413625304136255,-0.11620294599018004,-0.24546952224052718,-0.05569409808811305,-0.15951686797167847,-0.1175,-0.08015107007973143,-0.023099538009239817,-0.1139134089953762,-0.34068731438268984,-0.00594732370433305,-0.26428878384185645,-0.24036379385015158,-0.24870017331022531,-0.11961722488038277,-0.1287215411558669,-0.42294220665499127,-0.03302509907529723,-0.042515500442869794,-0.21365248226950354,-0.15559518502006242,-0.1266219239373602,-0.012567324955116697,-0.1656884875846501,-0.27609579755987346,-0.06781193490054249,-0.1637694419030192,-0.02956358517128109,-0.012252591894439209,-0.06314797360980208,-0.07692307692307693,-0.28117591275486015,-0.0995712243925679,-0.22981366459627328,-0.0692785475394171,-0.29366602687140114,-0.4472168905950096,-0.7151106833493744,-0.34650602409638553,-0.03857280617164899,-0.28426150121065374,-0.19728550654386814,-0.25486381322957197,-0.26520681265206814,-0.10905550146056475,-0.022417153996101363,-0.344390243902439,-0.4026483570377636,-0.3127182044887781,-0.24497991967871485,-0.09063444108761329,-0.34007074279939364,-0.01627670396744659,-0.13689567430025446,-0.06619144602851323,-0.21187308085977483,-0.27598566308243727,-0.0724191063174114,-0.11682964487905301,-0.6126359399274987,-0.18818040435458788,-0.10334029227557412,-0.19747899159663865,-0.11696522655426765,-0.624537281861449,-0.07112526539278131,-0.1980881571959639,-0.031914893617021274],\"colorbar\":{\"title\":{\"side\":\"right\",\"text\":\"Sentiment\"}},\"colorscale\":[[0.0,\"rgb(103,0,31)\"],[0.1,\"rgb(178,24,43)\"],[0.2,\"rgb(214,96,77)\"],[0.3,\"rgb(244,165,130)\"],[0.4,\"rgb(253,219,199)\"],[0.5,\"rgb(247,247,247)\"],[0.6,\"rgb(209,229,240)\"],[0.7,\"rgb(146,197,222)\"],[0.8,\"rgb(67,147,195)\"],[0.9,\"rgb(33,102,172)\"],[1.0,\"rgb(5,48,97)\"]],\"opacity\":0.7,\"size\":[10.923025648915086,10.613498351341661,10.154027541259872,10.021726833096873,9.957308496536449,9.954297896039204,9.892207319613794,9.768249729809774,9.761119201106917,9.743735276666516,9.652880883808598,9.584702923549424,9.552308598742538,9.540302466158927,9.534635748638392,9.53044606303496,9.508793543276015,9.503194583583229,9.48738664804385,9.484730884068636,9.473451793999342,9.434455969752493,9.367744531906945,9.27795951496708,9.257617374452495,9.200448744466513,9.19955761956513,9.190589943807694,9.180970317294868,9.159023374197513,9.150619598374885,9.138661587116157,9.13769698212393,9.118348058542892,9.078773218540132,9.071032184805716,9.055423101278825,9.03013490113441,9.02088501534009,9.020772899688078,9.01197786833971,8.981334343303166,8.976365214619092,8.974225862202085,8.972796361566207,8.9710057950063,8.967172130895817,8.963440219863747,8.960175238776056,8.95017478177248,8.948331480941576,8.946483815198166,8.942031484265348,8.92485170847795,8.900774180497157,8.889711955407206,8.883319547886298,8.870647314512835,8.865054943045555,8.847473404811005,8.834200324234077,8.821711161919737,8.814295898280307,8.801926779885061,8.791467254912039,8.78754629752117,8.768880151825694,8.764532373689192,8.763285688576621,8.752291379964994,8.745938657074683,8.732427170038777,8.72328775217902,8.722959356181395,8.718677582910217,8.715533668424989,8.714538215754775,8.710042895579688,8.708873202213217,8.705353564314114,8.694187340358488,8.686309229441141,8.683895669340886,8.678524639973853,8.678176849070462,8.673816332083991,8.672065279107533,8.671714596459456,8.651100509821626,8.641315309712446,8.638941172029423,8.633987067267107,8.632881870370092,8.630296973471305,8.624356282360932,8.621555936447438,8.611390649257462,8.610063177275622,8.60835310234065,8.594342240546343,8.585969967634083,8.577902558979492,8.573340150095543,8.568150314935219,8.562724083220115,8.557056735708766,8.555022665529622,8.55175708345161,8.540218701231554,8.538556343470754,8.528717812769651,8.525551561114577,8.524493282261396,8.514045476193846,8.502367176302938,8.50171322832877,8.49602260258624,8.483623063211274,8.477123586456207,8.46235608288008,8.443318527967682,8.440964773908762,8.43647298489507,8.430761933753178,8.42332274615676,8.41969751641023,8.41848535385661,8.417514266140925,8.414837526367137,8.413861885253665,8.410682600044844,8.409947075517003,8.408228150462456,8.404284900736586,8.403295966663979,8.39808339869998,8.397585142694007,8.396088462799996,8.392585004603626,8.386794952477832,8.382233445553698,8.364756336840227,8.362674230524451,8.356394366615367,8.356394366615367,8.351122259538501,8.349533655911014,8.349268573904443,8.34820734439187,8.34661278890742,8.344748346254867,8.34421482905197,8.34127394578046,8.328037285932762,8.327219536814589,8.326127869789591,8.318718895631429,8.312907325422099,8.303967519743876,8.302279843068245,8.300306262196047,8.295492394290394,8.29036277763463,8.281448608358962,8.280290939186896,8.276225517148912,8.272138802118757,8.26714741315381,8.259748638971146,8.257366136726647,8.250174667581287,8.24987357983731,8.242004238173852,8.238956308990243,8.236202955845208,8.234361974545621,8.231283986811222,8.228193808994588,8.221664324206335,8.220727064179117,8.218535735897548,8.21287246917342,8.21287246917342,8.2097083574618,8.205256933691796,8.199496103659595,8.197888295798636,8.196277168076016,8.195308892197252,8.195308892197252,8.194015985722741,8.192396834116945,8.190449406619747,8.189799182516419,8.186866449930573,8.1845777903589,8.182610724916662,8.17998023315823,8.172367793471858,8.167028036934326,8.165016169350844,8.150785947360658,8.150443949161522,8.150101800996058,8.149074455385051,8.14046022703478,8.133150047999012,8.128941846092482,8.124357202201942,8.122941105844394,8.120101179583408,8.107914830873591,8.104294087119655,8.102841072027807,8.099926899158215,8.099561861079584,8.097368038981585,8.090749318889658,8.090749318889658,8.087789547189557,8.087047846678537,8.083328731539895,8.081836107691435,8.081836107691435,8.081088723650732,8.078842266593679,8.078467227471421,8.075460407261707,8.073952640843089,8.073197663639688,8.069032180479478,8.066750690904165,8.06216760061249,8.059481646570024,8.059481646570024,8.057942654199618,8.056400620340336,8.055628459090938,8.05214424595358,8.04903405198465,8.042776222922408,8.040022561303704,8.040022561303704,8.031702783847418,8.03010795676416,8.025303823298177,8.023293338086807,8.023293338086807,8.020873897764274,8.01844693195428,10.999999999921974,10.388475466702495,10.014136031689636,10.006026728381803,9.956632968267042,9.817388217533251,9.782064687235144,9.780118139860473,9.770183163223694,9.677717302686414,9.665103375099207,9.648830646947548,9.635584009463257,9.590613052760972,9.563014362226346,9.560660439099934,9.507172173567373,9.506991813229359,9.499864365643422,9.478332401135155,9.447282954938128,9.40774193675247,9.386211615312074,9.375255084672732,9.361393806750293,9.339719297998194,9.314968406334291,9.236390537067322,9.235284074332153,9.217015210835104,9.204357648311548,9.200003309232152,9.184705193847785,9.173815203371491,9.16501107843096,9.157707416253523,9.147861621527406,9.126125706869523,9.06193828547548,9.058420433625296,9.052844763108377,9.052629516519747,9.042118131771971,9.033672037680928,9.023570969382556,9.019426253798505,9.018077279748908,9.014468572041181,9.01333741951075,8.991527955128516,8.95421478028599,8.947100190045637,8.942031484265348,8.938052415224067,8.93517987349019,8.92839379118326,8.928015050517862,8.920656362647431,8.918358448712514,8.904296845075697,8.89565764492491,8.88918125048701,8.877817586137832,8.875524857681484,8.874173040158947,8.854026224045448,8.843965311144943,8.83860261732869,8.836475576814275,8.81924722916915,8.813272594685978,8.807399259623562,8.805480867087473,8.80429796918597,8.771044989580565,8.76156823762465,8.748167998245066,8.734857159168273,8.724272111702557,8.724108137996199,8.722630821911768,8.720821406603761,8.715201991957153,8.699451988744267,8.697927198353574,8.697757593118945,8.687513215605714,8.68579266611288,8.685103382606183,8.682513132759752,8.680954845342995,8.652899194064059,8.64857536561503,8.648033198451003,8.64658557488393,8.646404432949549,8.634722996469351,8.632328684328602,8.625845700859164,8.609113598384127,8.602817226523284,8.602817226523284,8.58694811603702,8.563328864709252,8.561109037098687,8.560704752696463,8.557462914207704,8.555633443548157,8.547038734851629,8.541255879210723,8.52913901055523,8.524916766059492,8.52216000400583,8.52194754140987,8.515332341046573,8.50606256444448,8.505411707563557,8.504543053002548,8.50302057665836,8.502367176302938,8.50149512381894,8.49974808949527,8.498216219096667,8.49624224196245,8.4924999380077,8.491395835829927,8.485851767608107,8.47959528259572,8.476898498071886,8.475772081131872,8.47238304056936,8.466701721754117,8.46464627788744,8.456832032346442,8.44636783154041,8.444961941288279,8.441907127741711,8.438603898041539,8.43290847947791,8.425249336959864,8.423081587484207,8.396338108899979,8.392835773970669,8.387805009419965,8.383249420799896,8.376365775523755,8.366832901948348,8.365275996452402,8.364756336840227,8.364496377191367,8.362934797859928,8.35927891289073,8.34820734439187,8.347941811335424,8.341809476946876,8.33129973895959,8.328854178918393,8.326400929767475,8.326127869789591,8.31844313352259,8.31346267696073,8.306492210031973,8.29492409937901,8.292931801323455,8.286924201909493,8.283758806579055,8.28318189795474,8.281448608358962,8.280869988474205,8.27680759019257,8.276225517148912,8.275060066777138,8.275060066777138,8.264491929437574,8.259451223728805,8.257067811783676,8.232516639324832,8.230049383897253,8.229740427694903,8.222600459746147,8.215394552593825,8.212240672475872,8.211608363787429,8.204618937843627,8.199496103659595,8.192396834116945,8.190774315589188,8.190449406619747,8.184905153014777,8.184250290300014,8.183594877511508,8.17634876577508,8.175355425247746,8.166357990625361,8.160301539424701,8.159963687555885,8.156916419673413,8.151811043473295,8.151811043473295,8.1473592010587,8.14288181273014,8.142190697646127,8.13768346652832,8.13489678899901,8.132450255235657,8.12788623978198,8.127181708015073,8.12682920343314,8.117607736625214,8.0977341046129,8.094433314774077,8.094433314774077,8.0933299412051,8.089640719775149,8.085933972286892,8.083701441782873,8.083701441782873,8.080340623038449,8.080340623038449,8.07809200799853,8.07696526573943,8.076589323126115,8.073197663639688,8.072441955223386,8.069791196958434,8.06941178101182,8.069032180479478,8.068272424938595,8.067511928895119,8.063315899390512,8.050201828025283,8.045128794188551,8.042776222922408,8.040022561303704,8.03488269198308,8.034485911461518,8.034088929067384,8.03010795676416,8.029708740137986,8.027309141489686,8.02570529944742,8.020873897764274,8.020065747636266,8.014792270102626,8.009892606411752,8.007431188348978,8.0045496856535,8.00165750222465,8.001243456643781,8.0]},\"mode\":\"markers+text\",\"text\":[\"film\",\"one\",\"good\",\"time\",\"story\",\"see\",\"well\",\"great\",\"also\",\"first\",\"way\",\"think\",\"films\",\"two\",\"many\",\"seen\",\"love\",\"life\",\"show\",\"best\",\"little\",\"man\",\"still\",\"back\",\"real\",\"years\",\"though\",\"old\",\"work\",\"makes\",\"find\",\"new\",\"lot\",\"part\",\"world\",\"cast\",\"quite\",\"young\",\"big\",\"however\",\"long\",\"may\",\"comedy\",\"series\",\"must\",\"right\",\"action\",\"music\",\"without\",\"times\",\"saw\",\"always\",\"role\",\"done\",\"bit\",\"family\",\"feel\",\"since\",\"last\",\"performance\",\"yet\",\"fun\",\"woman\",\"day\",\"played\",\"found\",\"screen\",\"although\",\"especially\",\"dvd\",\"course\",\"set\",\"ending\",\"comes\",\"place\",\"shows\",\"three\",\"worth\",\"different\",\"actor\",\"american\",\"play\",\"true\",\"year\",\"everyone\",\"job\",\"together\",\"war\",\"plays\",\"later\",\"takes\",\"john\",\"night\",\"beautiful\",\"black\",\"seeing\",\"wife\",\"version\",\"excellent\",\"star\",\"mind\",\"death\",\"fan\",\"father\",\"nice\",\"short\",\"second\",\"men\",\"along\",\"top\",\"home\",\"help\",\"hollywood\",\"friends\",\"enjoy\",\"classic\",\"full\",\"performances\",\"truly\",\"recommend\",\"remember\",\"came\",\"perhaps\",\"moments\",\"keep\",\"human\",\"wonderful\",\"mother\",\"playing\",\"style\",\"episode\",\"small\",\"others\",\"boy\",\"perfect\",\"early\",\"stars\",\"often\",\"definitely\",\"children\",\"gives\",\"finally\",\"live\",\"friend\",\"certainly\",\"lost\",\"liked\",\"become\",\"entertaining\",\"cinema\",\"loved\",\"picture\",\"hope\",\"overall\",\"based\",\"several\",\"drama\",\"white\",\"beginning\",\"dark\",\"fans\",\"game\",\"humor\",\"lives\",\"despite\",\"final\",\"throughout\",\"becomes\",\"able\",\"son\",\"days\",\"history\",\"heart\",\"side\",\"fine\",\"michael\",\"wants\",\"amazing\",\"today\",\"art\",\"town\",\"works\",\"close\",\"child\",\"matter\",\"viewer\",\"past\",\"genre\",\"turns\",\"enjoyed\",\"brilliant\",\"behind\",\"parts\",\"eyes\",\"favorite\",\"directed\",\"late\",\"city\",\"soon\",\"actress\",\"sometimes\",\"type\",\"self\",\"daughter\",\"highly\",\"voice\",\"known\",\"heard\",\"feeling\",\"experience\",\"coming\",\"moment\",\"stories\",\"leave\",\"police\",\"told\",\"score\",\"strong\",\"chance\",\"hit\",\"hilarious\",\"roles\",\"particularly\",\"living\",\"including\",\"brother\",\"murder\",\"david\",\"simple\",\"age\",\"song\",\"james\",\"ago\",\"shown\",\"taken\",\"robert\",\"english\",\"husband\",\"reality\",\"released\",\"opening\",\"across\",\"alone\",\"career\",\"number\",\"cinematography\",\"view\",\"documentary\",\"relationship\",\"order\",\"movie\",\"like\",\"even\",\"would\",\"really\",\"much\",\"bad\",\"get\",\"people\",\"made\",\"make\",\"could\",\"movies\",\"characters\",\"watch\",\"character\",\"never\",\"plot\",\"acting\",\"know\",\"ever\",\"better\",\"end\",\"scene\",\"say\",\"scenes\",\"something\",\"thing\",\"watching\",\"actors\",\"director\",\"funny\",\"another\",\"actually\",\"nothing\",\"look\",\"going\",\"every\",\"things\",\"want\",\"pretty\",\"horror\",\"around\",\"seems\",\"take\",\"got\",\"thought\",\"fact\",\"enough\",\"give\",\"guy\",\"original\",\"come\",\"almost\",\"gets\",\"point\",\"interesting\",\"whole\",\"least\",\"far\",\"script\",\"minutes\",\"might\",\"making\",\"anything\",\"probably\",\"kind\",\"away\",\"girl\",\"anyone\",\"worst\",\"sure\",\"rather\",\"hard\",\"looking\",\"believe\",\"trying\",\"everything\",\"goes\",\"book\",\"put\",\"maybe\",\"let\",\"main\",\"someone\",\"sense\",\"reason\",\"effects\",\"looks\",\"money\",\"watched\",\"high\",\"audience\",\"instead\",\"half\",\"said\",\"special\",\"seem\",\"left\",\"shot\",\"house\",\"idea\",\"else\",\"used\",\"budget\",\"simply\",\"poor\",\"completely\",\"read\",\"less\",\"dead\",\"line\",\"kids\",\"either\",\"boring\",\"camera\",\"production\",\"try\",\"wrong\",\"low\",\"use\",\"given\",\"women\",\"need\",\"school\",\"stupid\",\"next\",\"rest\",\"couple\",\"video\",\"awful\",\"sex\",\"start\",\"tell\",\"terrible\",\"mean\",\"getting\",\"understand\",\"name\",\"face\",\"person\",\"head\",\"written\",\"lines\",\"dialogue\",\"piece\",\"went\",\"case\",\"yes\",\"title\",\"absolutely\",\"laugh\",\"worse\",\"sort\",\"called\",\"felt\",\"guys\",\"entire\",\"supposed\",\"sound\",\"problem\",\"waste\",\"totally\",\"care\",\"wanted\",\"direction\",\"seemed\",\"evil\",\"lead\",\"guess\",\"example\",\"turn\",\"already\",\"killer\",\"unfortunately\",\"quality\",\"flick\",\"writing\",\"horrible\",\"run\",\"act\",\"kill\",\"god\",\"etc\",\"tries\",\"gave\",\"car\",\"stuff\",\"girls\",\"hand\",\"kid\",\"hour\",\"expect\",\"obviously\",\"thinking\",\"killed\",\"starts\",\"stop\",\"decent\",\"group\",\"says\",\"blood\",\"anyway\",\"writer\",\"took\",\"happens\",\"except\",\"fight\",\"slow\",\"extremely\",\"violence\",\"hero\",\"involved\",\"lack\",\"cannot\",\"wonder\",\"happen\",\"hell\",\"save\",\"crap\",\"looked\",\"cool\",\"please\",\"cut\",\"obvious\",\"complete\",\"happened\",\"serious\",\"gore\",\"attempt\",\"seriously\",\"jokes\",\"interest\",\"none\",\"sad\",\"possible\",\"exactly\",\"hours\",\"saying\",\"usually\",\"talent\",\"annoying\",\"running\",\"huge\",\"shots\",\"body\",\"ridiculous\",\"middle\",\"call\",\"level\"],\"textfont\":{\"color\":\"black\",\"family\":\"Arial, sans-serif\",\"size\":10},\"textposition\":\"middle center\",\"x\":[0.01626812226756354,-0.06685576310126062,0.05228325795718187,-0.04677248209327399,-0.09292479584644876,0.11231222204623481,-0.23313019795044804,-0.0937328920756253,0.12292141461336502,-0.19620685123683662,0.2902260170347946,-0.2863305596221664,0.04708524350916826,0.16708901859212355,-0.27603876686378215,0.3938999282703209,0.16094810197021675,-0.21503896174038703,0.3565777153256638,-0.30273794785792696,0.1926861982282536,0.20497518472864795,-0.4481936740879954,0.46643510179841263,-0.18057785018250663,-0.19179597429768025,0.37995401726133377,-0.48206356889638635,0.3976689333991518,0.0006211360377169718,-0.44048500851324046,0.504012870951793,-0.49318226338158117,0.06340449850633387,0.40028455993254164,-0.5550564795673215,0.34819362669844844,-0.07507488581770128,-0.12979729590189318,0.3912397265093891,-0.5920917912928516,0.22654718256032572,0.05801969424811958,-0.5141220641516951,0.4487370021285599,-0.42846171619603024,-0.04646089538023655,0.4191182524423614,-0.5644617321938112,0.3388447078654472,-0.1509471554170488,-0.4942281824659831,0.5851107872123985,-0.6105072262621004,0.15086017913442765,0.5072523701398342,-0.6231718060596501,0.6274105364408369,-0.3026175328536643,-0.38300208610625247,0.5283816033535776,-0.6388028777972004,0.46758479476407994,0.16651726637112121,-0.5434534632312904,0.6082997003892701,-0.511481653162251,-0.08560135123596767,0.4778444003324509,-0.7150494298190959,0.5030423053896079,-0.20314685055832551,-0.239067733857475,0.6580536345887912,-0.6486266594430726,0.08507967830381578,0.10107218073497781,-0.6063031027734035,0.5855995185964651,-0.43643140868364416,-0.16938746107194003,0.6005190960027347,-0.735738358385114,0.45731607123899437,-0.016136593656126887,-0.584010498294076,0.7249823693949777,-0.3397188065534759,0.056350614559701785,0.4892519137885709,-0.6705046564742914,0.6415716383944648,-0.43155622135817584,-0.6312926289618145,0.6559358159177948,-0.7460816697320225,0.4266360305023738,0.16635573970185097,-0.7403520862230674,0.753876004338608,-0.5695521343330203,0.04081192168432378,0.4992753349613501,-0.783247585536495,0.569560276544065,-0.027283151259609954,-0.4491002284092384,0.8158636760913202,-0.7556963392740965,0.3106785058255309,0.35471489525287786,-0.7549943033749514,0.7867480094171412,-0.46433884368447237,-0.4085319150620069,0.8119365367245837,-0.8239576812796447,0.2758620890830354,0.19641429148373368,-0.6882154556428777,0.8617817466162083,-0.6474326803172945,0.09680003842538526,0.5557035438814623,-0.8046149018451059,0.6191492865901642,0.4732543139338845,-0.5217539708898931,0.773001377895328,-0.7989728107119817,0.20949084475462604,0.40688254173284555,-0.8120679421201122,0.8974899377631196,0.034586659504482836,-0.1739677437836774,0.5788046265599357,-0.8878249039294098,0.3295716865719344,0.046838587310972984,-0.7360623511936233,0.9107344877000384,-0.6985504305315161,0.23181218300320527,0.44620549051541647,-0.8747444046584572,0.7801600062770837,-0.3120891503869038,-0.3961390647595529,0.7987547178057047,-0.47314425806997806,0.412672753023726,0.19397141238818863,-0.6892524747270469,0.9054717881452871,-0.720321904096329,-0.29644024790963286,0.470389459960723,-0.8845933541212649,0.6910985570265337,-0.17377485437836596,-0.5394616068264149,0.8976019628105739,-0.6522256055192248,0.2958901290571646,0.23334817562952634,-0.8117283162547659,0.8989293208422592,-0.5560244787328474,-0.19953272248866988,0.7416639100260278,-0.8738358091358588,0.20340377441992763,-0.03878277579740789,-0.7540370444859618,0.9687408451844364,-0.768947928601944,-0.6264370618051583,0.9232707167072542,-0.9382926575792836,0.8388417690976636,0.047744062223629355,-0.2648631563916165,0.8745623949388595,-0.936303876378111,0.3802235755622576,0.2563033441210381,-0.7682966384569068,0.9553405702765002,-0.09480379769557544,-0.6536331025913614,0.615553076618992,-0.9860725571786888,0.772033487563874,0.5364333135343113,-0.6294976349831464,0.9903325847807003,-0.6470828173989581,0.10706761317062138,0.2653661640915492,-0.9576402621074999,0.9609309464672392,-0.5534448711707544,-0.13235945373634772,0.9901463834433916,-0.9674269483661524,0.5616189439203093,0.003619408646864698,-0.7041976892714522,0.9240952831498804,-0.7633679624824177,0.18202229461634467,0.6629961143278496,-0.9442503710019212,0.8889854504492252,-0.15040695800335202,-0.5347752368129485,0.9801533892890731,-0.836012752300688,0.428748476020881,0.5871087977605716,-0.9748701466563542,0.9475103214302062,-0.537592639809726,-0.25932115700062985,0.8531184735356012,-0.9670710610812111,0.48320495952336723,0.24221074506253584,-0.7516764442948234,0.9984686292942226,-0.6701311775112672,0.15161204234341058,0.550677014184329,-0.9438171222479521,0.7437249255808145,-0.28635881006766517,-0.3914175339588088,0.9838841481920673,-0.856905159135469,0.6551591611206622,0.06096500427826701,-0.6782021234854587,0.9950222531000136,-0.7627103205587609,-0.14715633073503273,0.8334518606814175,-0.9895378210195909,0.4726669372795219,-0.38356506939092533,-0.14865720537035285,0.8558804466328898,-0.995394459374902,0.6462861278543478,0.058584438584178486,-0.7288252367519523,0.766698854552383,-0.7734406690598059,-0.018322666020467945,0.5639544044783842,-0.9710797796071361,0.938481599753484,-0.2458732184419972,-0.5082860978887777,0.9793019342963992,-0.8086097900745391,0.23611363229116625,0.024567212829450475,-0.7224851089400863,0.9779377056155918,-0.6417317897968325,0.04315607088744516,0.8233993483545726,-0.9837862782058169,0.6665935156769742,0.09511739135087106,-0.5339523024686585,0.903199707256626,-0.8329578244514716,0.25566142826194727,0.45567485010939435,-0.9261566663704003,0.8358365328493391,-0.5028986689031125,0.1828780618312867,0.9230379596645232,-0.952401798316803,0.4341678443385747,0.3791489990623275,-0.6874337285513931,0.990298234379819,-0.6723540113789577,-0.07290166031245901,0.6914947397493001,-0.9898490841879126,0.7571305526972275,-0.10260944969566121,-0.539048671635277,0.9391417919703646,-0.7836222744407906,0.6667521813022246,0.2893403619759253,-0.935597205508699,0.907366504663962,-0.5025504364384361,-0.08695802953291962,0.825290000418637,-0.95870202690591,0.8527285355517606,0.0013294696506110253,-0.2585215230180088,0.7580424338955332,-0.7938366936054266,0.07040674453726439,0.3696930696722974,-0.9502721613222834,0.7604132736388219,-0.2293690200887465,-0.5496372994155128,0.8749737487348853,-0.6660618387839794,0.3139795998003952,0.37002594690380236,-0.7508374866946241,0.978972664559684,-0.5538343989909675,0.18416355218534794,0.8038208694532811,-0.9585170213807382,0.732700671552862,-0.046484103931548955,-0.4724105321187004,0.902456195368188,-0.7623202455153291,0.5253596550263143,0.44346684678313775,-0.747139731117306,0.922758194489585,-0.6529742920518312,0.20492102350135713,0.8650058446679436,-0.90085783779695,0.4809759175669797,-0.2939381886098344,-0.4970468691323977,0.8984690967913905,-0.7070439978772621,-0.03005041254374751,0.5998257698070567,-0.8678934047160175,0.6313406964212614,-0.3802754976678913,-0.3110637510331071,0.900379004079666,-0.8785497407897901,0.3136855974877442,-0.27966360716634775,-0.6696883519332211,0.8693228689011875,-0.4394410994227087,-0.0288742022997372,0.697175437210098,-0.8409606720176279,0.800921497621276,-0.7237421528903469,-0.3998833625187773,0.8664453087335485,-0.7485416369434664,0.4442992181362452,0.23113511086578742,-0.8989028666253143,0.7283495150030772,-0.3585037382706991,-0.2801519783458597,0.8497141571339816,-0.6748603496092214,0.41029324576854503,0.1021284507430224,-0.7287642492184027,0.8852159212270322,-0.8053956783272627,0.21266982158726674,0.5950182411984803,-0.8546172408744501,0.8051705653167881,-0.42904448855756333,-0.5053492983556767,0.7635406902170174,-0.7503014839871736,0.08759451400212682,0.4521479392067435,-0.784066401740872,0.7802786073120598,-0.42105781479440707,-0.08684500385038622,0.6124837637418323,-0.8330899605134598,0.4655335295162063,0.17717507334451071,-0.5843052388568393,0.7283544248522228,-0.6892151913602871,0.6785234655114728,0.3953221648504733,-0.7203105487678184,0.6866505347042914,-0.24174319740852362,-0.18321074130631743,0.2824504189670461,-0.6789248057147182,0.5921703199170614,-0.6713592156145771,-0.5843691148369089,0.749166959546285,-0.5361204706770952,-0.05293250151748856,0.38816329212418577,-0.7537104029981597,0.5391783128895091,-0.4497757141317427,-0.46755138635018023,0.764829090450188,-0.5133989381700302,0.3955151111546593,-0.03125612038743668,-0.6386289865710582,0.7020762729054838,-0.32442258992885675,0.3660172437425915,0.6469373605927146,-0.755262740579464,0.438028266486657,-0.14606720277969445,-0.415202300825358,0.6734974874468741,-0.4298406863026364,0.035060938326244455,0.3771593275945969,-0.695248121062308,0.5681055513076835,-0.17537949230935698,-0.13924186788867543,0.7038797354279518,-0.6215170463990538,0.2917065421233712,0.023681863818605847,-0.5359725956315881,0.6527131812989846,-0.4379874258304768,-0.22236947016080727,0.4912339455477097,-0.5213509815382499,0.38015941589581664,-0.014039589870540993,-0.5452003834596337,0.6312093014007881,-0.5595408295495776,0.001904482949386525,0.18472080853687378,-0.4618858333637648,0.4381851337635795,-0.05621371461847429,-0.32908686680803895,0.4210479396681079,-0.4847693098971841,0.3504358611027098,0.18505156144248858,-0.24237192879631433,0.39342212681310335,-0.46412497906577055,0.22591562680078064,0.3321906278056611,-0.39111405825533735,0.31462247647605635,-0.14481492406110322,-0.08511191227048237,0.3165875425899175,-0.28011563388062366,0.1892568093408263,-0.022626286936176385,-0.2686824234624856,0.3969989813891056,-0.09696721490914083,0.11545395410265401,0.26912878331637163,-0.33075195154038106,0.12293464178576932,0.07313614408930372,-0.07153506334491803,0.345672574959098,-0.16025628500931094,0.15839476416484635,0.027816632455004594,-0.22084515960239992,0.1939661697627566,-0.02594347319168109,-0.04834680458678618,0.1059068454266185,-0.16295877576558523,-0.04964155146780406],\"y\":[-0.13168626140639483,0.07742299704416744,0.14083770076873015,-0.14395017846103142,0.22767767153510018,-0.036162461773666804,-0.09755152630513322,0.1794619619286783,-0.24626810978041266,0.27678205587644056,0.052138800761999685,-0.27208617675611585,0.33278887410846375,-0.2359929986351106,-0.07816386276733486,0.09644771658507433,-0.3907771137354843,0.2158390096199072,-0.1187822011427811,-0.2654953734607096,0.32422219517232403,-0.3597968516181857,0.17771878742390443,0.12110388292213116,-0.4322682687859055,0.39060919003350514,-0.2521935721217626,-0.07447722560070943,0.3383013009756962,-0.5105180981088316,0.3831128908075501,0.027009515009573225,-0.24409188768401296,0.41233524792086385,-0.4046587086417491,0.09559457729465351,0.25949357266232165,-0.5050490515054311,0.45404727125985117,-0.29950323626558856,-0.10111343075471148,0.4860924802366576,-0.5736143897783675,0.3031946915654309,0.14019241778537966,-0.46261909842823684,0.5403993719006457,-0.3784895604062905,0.09227342441688167,0.3565056020050137,-0.642291464130828,0.4047668155758147,-0.05443801219166012,-0.19169141466451536,0.6878050401284544,-0.4287180333213255,0.22561971248352383,0.2318344621405159,-0.5874542811290395,0.6095174407469166,-0.2735324218003698,-0.29135863139786516,0.4497617309326317,-0.6265031869890075,0.41064033365532093,-0.02820024784908818,-0.4776266513943413,0.7115499371741985,-0.3941448451479256,0.011893798122801228,0.4288235632916358,-0.7227707613850967,0.6993898737240826,-0.39485643425080186,-0.14580775720969807,0.684950807066294,-0.6471077313543181,0.4077547042802312,0.2972602516488213,-0.5551762131851632,0.6866987727523275,-0.40830831760909203,-0.17776984152783593,0.5648625179812375,-0.7611817474810978,0.45427222913456283,-0.10273373279684503,-0.6655157318719738,0.8100317470679398,-0.6044258935980057,0.2412941365371533,0.44008906513144297,-0.733855861814221,0.5442474209725049,-0.4227101149597478,-0.13605460533693126,0.691623249911961,-0.773546786038774,-0.24045181954688988,-0.04316266438182145,-0.5635533833247474,0.7869014811649439,-0.6286930715051939,-0.20806438579445868,0.6012825946801686,-0.8578174806750093,0.7207849770786566,-0.16888221807015621,-0.39063231224600187,0.8021474004818638,-0.7530802765291544,0.3169253506123473,0.30463507157272024,-0.7003445401684527,0.7482000605096999,-0.25927915338244384,-0.049392024167610994,0.8260835032109148,-0.8512888717417811,0.5319067327063743,0.13073764861369705,-0.5388861504200227,0.8490859048610438,-0.6370858325652601,0.21420269888759658,0.6361374848536622,-0.7795628272199467,0.6821132552170934,-0.4140562269197215,-0.39087573545139703,0.8499977393014637,-0.8096429862625196,0.3350247480385073,0.09936237717159495,-0.8725092259150687,0.845046941214869,-0.675044075974907,-0.07579021312872035,0.7627461629528185,-0.8333717016081419,0.5580760312553908,-0.11255898297088456,-0.5996597833622952,0.8851275030045812,-0.7510042905221265,0.29574672241784844,0.49185635782481696,-0.8474715379877852,0.8028053129526197,-0.3747018559999861,-0.7417190258019387,0.8187679683368778,-0.8667386775386627,0.5886906184798847,0.11453086962001095,-0.566660665717234,0.9120560174747366,-0.773832212790955,0.1295924557592509,0.6350767523805306,-0.9470157125670378,0.8039451544806626,-0.21561710619194233,-0.6968479036357359,0.9004026589762232,-0.9244717959602168,0.4357540564356229,0.2605897298326873,-0.7743403354605843,0.9062198589844671,-0.5895412088887277,-0.29160823789075657,0.919025442340776,-0.9451469688467721,0.5945311939979926,0.060222248171065855,-0.5678934327891896,0.7096317671596417,-0.3371123648796075,0.1798069724601289,0.5089493177694593,-0.9736253905298099,0.9181503999185108,-0.42938969118015424,-0.16451940802427337,0.8622109360398598,-0.9132218815586569,0.5737229830701308,0.09197097515084281,-0.985426905923489,0.7334091792801793,-0.7701087758662304,0.054733320563189386,0.6173297929743741,-0.7935621046264364,0.7530658159969935,-0.01672173302398056,-0.7389048382445474,0.9509897155246378,-0.9533935892516295,0.12858904596755125,0.25225938173559326,-0.7784768412134927,0.9856560044888226,0.08427814657061182,-0.10099424036521597,0.8060361733423349,-0.9841466823584074,0.6949678298935914,0.32444226793978165,-0.6356033691895522,0.9762283802049849,-0.727801143304387,0.2292492971502982,0.4270037638192969,-0.968727834283651,0.8224661284941924,0.08381628988015444,-0.5366468819471643,0.8987845866142167,-0.8046197301459919,0.22152033533209473,0.29812321499810246,-0.8415725639869109,0.9656960524848759,-0.5155572926167626,-0.18254545803283873,0.8618465607704855,-0.9701214832875461,0.6507478454322048,-0.020311186847614845,-0.7421919360455652,0.9858056990546189,-0.8328290227276965,0.3176774542168849,0.6604444477628622,-0.9510079111165382,0.9114503350636556,-0.15349834014654448,-0.5139876997917535,0.7553167856781949,-0.9959595569892585,0.7338769555155108,0.06265382331556005,-0.64566528696054,0.9869605467479513,-0.550062870421946,-0.12050569853557296,0.8798386290363146,-0.9234373816140673,0.9856440954236078,-0.5148885756854034,0.09568452936003764,0.7625477240670075,-0.9927365656385185,0.6804881747041549,-0.636851301592102,-0.6286069154802181,0.9977751442829507,-0.8234952570817846,0.23831587523407352,0.3389883675377789,-0.9688373990605998,0.8595907212782837,-0.20172781882237198,-0.5756084011774919,0.9711750444799161,-0.9994866886949141,0.6913240159813205,0.18616921145201137,-0.7618502203375948,0.998464320390588,-0.5503521712542976,-0.1564883445107264,0.7453598206819956,-0.9954125694428464,0.8233129189574542,-0.4154112755133093,-0.5526058951347654,0.9537490071045778,-0.8785333435769448,0.33974912715042627,0.5168232591574663,-0.834302271914251,0.9777190642862533,-0.3819474037939448,-0.21763373544196105,0.8915539696175081,-0.9220658121142491,0.6906819881864348,-0.108937775772838,-0.7124200674951136,0.9877804643775924,-0.7147293958418577,-0.010777105110689583,0.6224822403055853,-0.9839076133425891,0.8214270773893093,-0.25582871369460425,-0.5595672726248715,0.7375466671319916,-0.9477387196554591,0.2827814818320418,0.39642376723794936,-0.8472130652371411,0.9618603619310195,-0.5433291370406135,-0.08088719407527452,0.4907917088045577,-0.976047095808989,0.9198915679716702,-0.6072341482501451,-0.5547757010451271,0.9641097460373588,-0.8837591033589577,0.2143726650720753,0.5805057500205959,-0.9523864769093249,0.8093820084164663,-0.40124456356388616,0.6776851107995333,0.9020492169030168,-0.9046210303226023,0.5452280693214292,0.028904031153626483,-0.7978855821479877,0.9373600906753887,-0.5259841599371416,-0.09676647893525132,0.6134494712154798,-0.9171114092363378,0.7925709232655654,-0.33886206548923864,-0.5390838178446037,0.8031103359933401,-0.8171306142644071,0.6075330598222891,0.10205057390504275,-0.6615062889142803,0.9037809251031715,-0.37255830839192733,-0.2465200497305325,0.7845802854307642,-0.8675174472961145,0.7626223732889019,0.06771493094979619,-0.5591478930191639,0.9376580367008874,-0.6949068996633879,0.17376607291383872,0.6453187220478845,-0.8078033926410083,0.8724388512490916,-0.17433511341996255,-0.06570097630670726,0.8065178127960377,-0.8798641726491191,0.638698182853145,0.2898820407520087,-0.7605187281518874,0.8447620263784779,-0.5049591503852435,-0.10947415559473919,0.41504772459130423,-0.5651999610585297,0.834929807821643,0.004806547886841009,-0.49958791758694576,0.7944465047682246,-0.8849526981573222,0.06852444550365233,0.5036219368476083,-0.8391047987171144,0.8302828901139543,-0.19532744550360354,0.5253698174905326,0.7485938300438314,-0.8612937120872697,0.4345831600776888,-0.07316278975810864,0.23160368939267253,0.8452982459885671,-0.6653764548436307,0.09097735432871493,-0.32507737990995084,-0.7010312968446014,0.7061569587754483,-0.18522613197001825,-0.2957925915560202,0.7951612901551375,-0.6488863446600815,0.3455155065216131,0.35949598202454386,-0.7048377446665904,0.8352206555394811,-0.4910816638405676,-0.13675386587313074,0.7026955356317923,-0.8075137598554583,0.515427803710913,-0.1320904229858027,-0.41694064900383215,0.4577335683094575,-0.7455423055698274,0.2505138926652539,0.413801187654782,-0.6627420887907322,0.817254663523775,-0.6309111792014405,-0.26569324260384347,0.46936297263167615,-0.36696994917467907,0.4178313022067177,0.0403834537944525,-0.4895170029315633,0.8001979199679862,-0.6555696978475762,0.05175586564725873,0.6234998547053899,-0.6284388885226718,0.5575476903946729,-0.08926694577193456,-0.3449514012718816,0.622020131239293,-0.6939498828609142,0.14434132934674523,0.027924611413053874,-0.5714554818516804,0.5427480255160205,-0.384279292933147,-0.17524417826177868,0.4592073272255735,-0.7162893946872111,0.4227748631435335,-0.1655613818194968,-0.48590824456436127,0.6850179253945844,-0.47801334368445425,0.07206039679891661,0.3705582161680401,-0.621926498159186,0.6717847276224471,-0.10762397224181765,-0.06466930800027823,0.4427614523241196,-0.5567991752571788,0.3620755510246072,0.15915517578780575,-0.3553291424162334,0.5825915625503443,-0.34183951264764467,0.07065196367037485,0.3941496627425947,-0.6192237352626015,0.26177690573698703,-0.12971285660834012,-0.17271145486860418,0.49466103054529864,-0.4990384965570658,0.14047559453833483,0.2915489761235424,-0.5011979477316453,0.4225280414674405,-0.2688880069753041,-0.1884840921381098,0.28481027184040175,-0.45689662397375974,0.4361275211919693,-0.1542734003198319,0.11635531132073905,0.36049490737818024,-0.31863330064558876,0.21283234223984338,0.27463225171567,-0.3450321435132422,0.4268068646470166,-0.17316616427661777,-0.2793122312350042,0.31102946326282976,-0.3067624646338668,0.3074708456464242,-0.045861104528572914,-0.25925723622025704,0.2850355007766217,-0.05142522450649864,-0.06871328772089826,0.19505225013752253,-0.35812223064852855,0.25132440036934184,-0.07073706142219902,-0.24651864868310389,0.15303905431915785,-0.20989312993429657,0.014178338272526063,0.10002100899396871,-0.2857014151809514,0.2497475283469371,-0.09994718866457938,0.02041111172017731,0.07196380087055754],\"z\":[0.9911579474305264,0.9947542342050357,0.9886512039033587,0.9884789734940604,0.9692924533912616,0.9930147235250368,0.967540185480233,0.9792893082046024,0.9613752357610591,0.9406883464105084,0.9555367101745592,0.918685976296959,0.9418251138684419,0.9572818625990622,0.9579629480024849,0.9140791456291743,0.9063051118981672,0.952455650862503,0.9266839383656144,0.9153479893448879,0.9261490145597422,0.9102370016710472,0.8760927251747277,0.8762260811865206,0.8834793624212737,0.9003547994566212,0.8899625536770855,0.8729649812046872,0.8528843117136886,0.8598667836899877,0.811909767259991,0.8632737178982566,0.8349792844452345,0.9088231472025788,0.822206543758929,0.826301386469966,0.9007909213982599,0.8598192932779093,0.881472482518904,0.8701892253224567,0.7995019604757916,0.8440322711433215,0.8170680797329839,0.802341250440823,0.8825991099679188,0.7761469754652129,0.8401249335961017,0.8252790698503832,0.8202856624586,0.870682502230648,0.7514496865234416,0.7693518887121713,0.8091241372720925,0.7684629647716754,0.7100460781705815,0.7475933927561261,0.7488341909069094,0.7433766211867568,0.7505465317971463,0.6941166267015852,0.8037368322165703,0.7120681366470335,0.7609723024485952,0.7614235067903443,0.7321426429852063,0.7932062912808838,0.7143243663464374,0.6974016744846335,0.7850570489551942,0.69897271082754,0.7503724345644454,0.6605556627529892,0.6735728788783463,0.6411347832829098,0.7470097419694056,0.7236047541572345,0.7556692386904098,0.6827390780559474,0.7541283356360957,0.7080303650464379,0.7069318804043636,0.6875035513415849,0.6535188990717452,0.686871419383881,0.6483378422140724,0.6727321010026354,0.6810626580661067,0.6645900564293699,0.5836721485395763,0.6287303905510476,0.7015701285823694,0.6282574691633793,0.5246091896716641,0.5525073405695692,0.6253513925042254,0.6518061724596425,0.5827855331581205,0.6115154435313414,0.627743347954992,0.6555974027449447,0.5983460122871478,0.6157275744912276,0.5962123461826305,0.5858604194816592,0.5604108606350632,0.5132297726220929,0.5279943197236974,0.5530327824410245,0.5256704665825082,0.5099396179139292,0.5541186156307258,0.5740574222241295,0.5368659449490621,0.5421318689230562,0.5227794409012756,0.5230041882747899,0.5644946123825255,0.49141240677207765,0.4865477190878077,0.49339103590954697,0.49014272251465585,0.5389180284075238,0.5193100025294587,0.5341490552853324,0.5538159112178527,0.4604163998805293,0.41025864129815914,0.5123419765330273,0.4806519642328827,0.45701051101514645,0.4833398691877113,0.4229950732915557,0.47781175747624793,0.42969632255438417,0.4873719459277568,0.5055995364576696,0.4574939341280901,0.45389732710893693,0.556417823502162,0.5507247531185269,0.3830970614525086,0.397357733366684,0.3904298147197765,0.4035002047535582,0.4867167716971075,0.38386990334984783,0.3865587767378283,0.4294093088317935,0.44562032142449803,0.4707328540619344,0.4753813183317503,0.3991493616897317,0.45949880961179984,0.42234391412261707,0.4086606425593986,0.4000400535045711,0.283331961499931,0.4241667860699531,0.447995974596622,0.3450511600641871,0.27011764129157384,0.2503065387626257,0.384473640027529,0.29833665330220643,0.3189421314832546,0.3014971432774496,0.3888644273909647,0.352163412119717,0.3020493733293537,0.37276300760460657,0.3199621971216626,0.389070191952721,0.3376672043330061,0.3243348633452882,0.2792146036764501,0.24065422434805997,0.2936258368973846,0.3224893217376419,0.184191305756138,0.295425695205288,0.19317111160601594,0.22310110586472087,0.29469874705493565,0.22531114146224207,0.31027151893569904,0.33469737728270454,0.31675604309127103,0.28383483583402425,0.280830437299048,0.1412304960854978,0.18674780572837935,0.1674123149553498,0.15705150619847175,0.15122242157225899,0.28722549718202217,0.19137555833336622,0.1377016890464727,0.1878921697299429,0.2900949623421868,0.1436017511356746,0.2576625421900391,0.11391628701793292,0.2960955627311048,0.10470537627908912,0.11183618986980398,0.23213199475299975,0.1867882466684727,0.17731950677798214,0.1453455532093755,0.2019532679464072,0.11522895005306606,0.11766917159966725,0.17533296378890134,0.23629641685566938,0.16544683307256883,0.19734267168629682,0.19381670096106068,0.1796501127633058,0.11442378287320767,0.0914385650285681,0.08882763900908205,0.023599537973755292,0.11552808949524952,0.05243827959522355,0.01355255499832435,0.07993464919519852,0.1773435044506606,0.15405671936045826,-0.014080576700638572,0.1072835717043138,0.05145728329553997,-0.008679573508999401,0.07211735108761276,0.056130606191828955,0.09105094636451155,0.10337488326000609,0.11654434731204036,0.1266909658261181,0.09170737434157655,-0.03911767771479526,0.016218103231576353,-0.06593807015003342,0.03829482815080372,-0.0774933175165133,-0.037273370216763364,0.06522187890261029,-0.052809416867187854,-0.07933017958037081,-0.04969862430988147,0.011884434395046764,0.08004219167448347,-0.048563522320171894,0.005860126866767307,-0.028899990713853362,-0.10508080129127279,0.0758262379474815,-0.08119905226361455,-0.08150384809790037,-0.0641018046628904,-0.061733226331016945,-0.014477750155785254,-0.06587240392010425,-0.030007576284428003,-0.052431236732314764,-0.01654111835696156,-0.12175867890832803,-0.03270146213405266,0.020562372807345033,-0.009293669204923248,-0.09475689232266266,-0.0881166938537317,-0.03473549269146968,-0.13829678494074085,-0.08761253817941467,-0.009582409421166563,-0.010319808999963133,-0.19248578172471556,-0.10799889345706501,-0.02842511824735324,-0.15811409028322868,-0.14331641637054335,-0.1637203711765606,-0.18512430728634774,-0.22590406790094927,-0.10305845832363815,-0.046012017489122654,-0.21346281118850247,-0.12895659037698895,-0.0777217771292278,-0.2244844316311567,-0.08626684179845598,-0.20099186752921663,-0.13775014380273737,-0.10486617957463973,-0.1417132475733434,-0.19816454444862308,-0.14627750763409741,-0.18623664016487332,-0.22926919510491747,-0.26985291995345345,-0.10708147613484142,-0.13443762195706851,-0.21140601357858207,-0.13976488465553968,-0.1722587615392176,-0.25935100779769454,-0.1539151196332203,-0.27266771983703664,-0.17882265858791999,-0.2175552786610485,-0.2949001955087031,-0.23798814594987094,-0.2490928048248118,-0.2559986092138865,-0.2868743304418243,-0.22589196507572357,-0.29117817134344975,-0.20087272394173455,-0.20688065047981052,-0.27096815169914035,-0.31161597763325377,-0.2961824120265041,-0.21152207950003257,-0.372786025754892,-0.20193335293601902,-0.23800431990760276,-0.29570229362570355,-0.2778716850033309,-0.2681070090054912,-0.29466841054214377,-0.39591146880359457,-0.3855640293612664,-0.26597991656127323,-0.358129139578916,-0.28108899140894245,-0.3682861863226665,-0.2696030478479917,-0.37162211299648557,-0.36882787807630046,-0.37574913645517743,-0.33610295377821814,-0.3573276104090753,-0.3912747659049614,-0.40126527374494136,-0.4139462835258745,-0.4337833217602162,-0.4329462077417561,-0.34625767705018146,-0.3966275919242004,-0.4653669411921539,-0.4300844940436725,-0.45038230950062236,-0.3769479985679436,-0.398653881507954,-0.4731107002283275,-0.501129088730092,-0.3842229880098117,-0.3789223436339655,-0.40030757181804555,-0.478019648412486,-0.5343626102474629,-0.50888374526322,-0.5299061778998981,-0.4315786613812984,-0.395911985356698,-0.37813425180957927,-0.49924885985952655,-0.4360015256431272,-0.4140687815147048,-0.40427129820101676,-0.4327563249002947,-0.46462019835629814,-0.4091188169906695,-0.48181447821015155,-0.4897275162772906,-0.5182181619697288,-0.5208327275594532,-0.49773780353491504,-0.5291881952935343,-0.4593908782300619,-0.5456166533304045,-0.4901453073474151,-0.4508075709000339,-0.5112264592130276,-0.4960091307812037,-0.5696279028302207,-0.4959480176635804,-0.6186250030659497,-0.5912312795406028,-0.6000381019198268,-0.6119712025780077,-0.5156150816396226,-0.5117889544327443,-0.5708888423273599,-0.5430141820122435,-0.6194371950345078,-0.535965948415042,-0.5380497347823266,-0.5626104522931195,-0.6268345611133741,-0.6723480883840003,-0.5925731306821684,-0.574531014996573,-0.5365510754658512,-0.6468349889388373,-0.5977287179697847,-0.7087546474288552,-0.5463777440733022,-0.7226152813108702,-0.6844473749090482,-0.6550058870969647,-0.6439020577790641,-0.6956505879541585,-0.6611490326573929,-0.6877121089248536,-0.5973955466539816,-0.647732683991901,-0.6551655964589825,-0.566157820834421,-0.6346387715619569,-0.6859564665906945,-0.6380187103790051,-0.7857671799244678,-0.6757653092467607,-0.7193445732162367,-0.7558562020342479,-0.7115540198049438,-0.7537828701990491,-0.7559470603696645,-0.6586360728749471,-0.6315597126778681,-0.7728258978457174,-0.682344396423642,-0.8055237206211219,-0.7204099966357812,-0.7610060198600662,-0.7276820545346593,-0.7932553717864124,-0.7151484806475596,-0.7348079279674065,-0.7631837685412106,-0.727541738981419,-0.7021185075560741,-0.7807268675011519,-0.8478617750661143,-0.8303094891418514,-0.7626497702629729,-0.7406990839595468,-0.8257773400645821,-0.7817537271964554,-0.8011460280962832,-0.850412519944658,-0.8367346424438576,-0.785089074948632,-0.7963852042185594,-0.7646890823436889,-0.810607681572375,-0.8690839072290768,-0.846663334417847,-0.8757443030228411,-0.8502899405908011,-0.8635048555036501,-0.8444950492857592,-0.8662666288193781,-0.8540916011720759,-0.8922319296614523,-0.870058270812408,-0.8666306210782668,-0.9063215478446991,-0.8780942121063389,-0.9049892548100268,-0.8877624719021291,-0.8953949896731291,-0.9086197354304244,-0.9273518521639098,-0.9003287525564453,-0.932623078969527,-0.9184333994025804,-0.9313659501509416,-0.9515171261891389,-0.9128370251034948,-0.9166725521512203,-0.9609282203683054,-0.9515383059967071,-0.9617302866579099,-0.9412128508699902,-0.9730579086392002,-0.9308058725336185,-0.9652558109077766,-0.9356851709108671,-0.9557962538985341,-0.9754435639944838,-0.9773285573261674,-0.9752058194063551,-0.9758959589768748,-0.9579674512019467,-0.9671032822666061,-0.9893403355619487,-0.9864217272137349,-0.9961711337577154],\"type\":\"scatter3d\"}],                        {\"template\":{\"data\":{\"histogram2dcontour\":[{\"type\":\"histogram2dcontour\",\"colorbar\":{\"outlinewidth\":0,\"ticks\":\"\"},\"colorscale\":[[0.0,\"#0d0887\"],[0.1111111111111111,\"#46039f\"],[0.2222222222222222,\"#7201a8\"],[0.3333333333333333,\"#9c179e\"],[0.4444444444444444,\"#bd3786\"],[0.5555555555555556,\"#d8576b\"],[0.6666666666666666,\"#ed7953\"],[0.7777777777777778,\"#fb9f3a\"],[0.8888888888888888,\"#fdca26\"],[1.0,\"#f0f921\"]]}],\"choropleth\":[{\"type\":\"choropleth\",\"colorbar\":{\"outlinewidth\":0,\"ticks\":\"\"}}],\"histogram2d\":[{\"type\":\"histogram2d\",\"colorbar\":{\"outlinewidth\":0,\"ticks\":\"\"},\"colorscale\":[[0.0,\"#0d0887\"],[0.1111111111111111,\"#46039f\"],[0.2222222222222222,\"#7201a8\"],[0.3333333333333333,\"#9c179e\"],[0.4444444444444444,\"#bd3786\"],[0.5555555555555556,\"#d8576b\"],[0.6666666666666666,\"#ed7953\"],[0.7777777777777778,\"#fb9f3a\"],[0.8888888888888888,\"#fdca26\"],[1.0,\"#f0f921\"]]}],\"heatmap\":[{\"type\":\"heatmap\",\"colorbar\":{\"outlinewidth\":0,\"ticks\":\"\"},\"colorscale\":[[0.0,\"#0d0887\"],[0.1111111111111111,\"#46039f\"],[0.2222222222222222,\"#7201a8\"],[0.3333333333333333,\"#9c179e\"],[0.4444444444444444,\"#bd3786\"],[0.5555555555555556,\"#d8576b\"],[0.6666666666666666,\"#ed7953\"],[0.7777777777777778,\"#fb9f3a\"],[0.8888888888888888,\"#fdca26\"],[1.0,\"#f0f921\"]]}],\"heatmapgl\":[{\"type\":\"heatmapgl\",\"colorbar\":{\"outlinewidth\":0,\"ticks\":\"\"},\"colorscale\":[[0.0,\"#0d0887\"],[0.1111111111111111,\"#46039f\"],[0.2222222222222222,\"#7201a8\"],[0.3333333333333333,\"#9c179e\"],[0.4444444444444444,\"#bd3786\"],[0.5555555555555556,\"#d8576b\"],[0.6666666666666666,\"#ed7953\"],[0.7777777777777778,\"#fb9f3a\"],[0.8888888888888888,\"#fdca26\"],[1.0,\"#f0f921\"]]}],\"contourcarpet\":[{\"type\":\"contourcarpet\",\"colorbar\":{\"outlinewidth\":0,\"ticks\":\"\"}}],\"contour\":[{\"type\":\"contour\",\"colorbar\":{\"outlinewidth\":0,\"ticks\":\"\"},\"colorscale\":[[0.0,\"#0d0887\"],[0.1111111111111111,\"#46039f\"],[0.2222222222222222,\"#7201a8\"],[0.3333333333333333,\"#9c179e\"],[0.4444444444444444,\"#bd3786\"],[0.5555555555555556,\"#d8576b\"],[0.6666666666666666,\"#ed7953\"],[0.7777777777777778,\"#fb9f3a\"],[0.8888888888888888,\"#fdca26\"],[1.0,\"#f0f921\"]]}],\"surface\":[{\"type\":\"surface\",\"colorbar\":{\"outlinewidth\":0,\"ticks\":\"\"},\"colorscale\":[[0.0,\"#0d0887\"],[0.1111111111111111,\"#46039f\"],[0.2222222222222222,\"#7201a8\"],[0.3333333333333333,\"#9c179e\"],[0.4444444444444444,\"#bd3786\"],[0.5555555555555556,\"#d8576b\"],[0.6666666666666666,\"#ed7953\"],[0.7777777777777778,\"#fb9f3a\"],[0.8888888888888888,\"#fdca26\"],[1.0,\"#f0f921\"]]}],\"mesh3d\":[{\"type\":\"mesh3d\",\"colorbar\":{\"outlinewidth\":0,\"ticks\":\"\"}}],\"scatter\":[{\"fillpattern\":{\"fillmode\":\"overlay\",\"size\":10,\"solidity\":0.2},\"type\":\"scatter\"}],\"parcoords\":[{\"type\":\"parcoords\",\"line\":{\"colorbar\":{\"outlinewidth\":0,\"ticks\":\"\"}}}],\"scatterpolargl\":[{\"type\":\"scatterpolargl\",\"marker\":{\"colorbar\":{\"outlinewidth\":0,\"ticks\":\"\"}}}],\"bar\":[{\"error_x\":{\"color\":\"#2a3f5f\"},\"error_y\":{\"color\":\"#2a3f5f\"},\"marker\":{\"line\":{\"color\":\"#E5ECF6\",\"width\":0.5},\"pattern\":{\"fillmode\":\"overlay\",\"size\":10,\"solidity\":0.2}},\"type\":\"bar\"}],\"scattergeo\":[{\"type\":\"scattergeo\",\"marker\":{\"colorbar\":{\"outlinewidth\":0,\"ticks\":\"\"}}}],\"scatterpolar\":[{\"type\":\"scatterpolar\",\"marker\":{\"colorbar\":{\"outlinewidth\":0,\"ticks\":\"\"}}}],\"histogram\":[{\"marker\":{\"pattern\":{\"fillmode\":\"overlay\",\"size\":10,\"solidity\":0.2}},\"type\":\"histogram\"}],\"scattergl\":[{\"type\":\"scattergl\",\"marker\":{\"colorbar\":{\"outlinewidth\":0,\"ticks\":\"\"}}}],\"scatter3d\":[{\"type\":\"scatter3d\",\"line\":{\"colorbar\":{\"outlinewidth\":0,\"ticks\":\"\"}},\"marker\":{\"colorbar\":{\"outlinewidth\":0,\"ticks\":\"\"}}}],\"scattermapbox\":[{\"type\":\"scattermapbox\",\"marker\":{\"colorbar\":{\"outlinewidth\":0,\"ticks\":\"\"}}}],\"scatterternary\":[{\"type\":\"scatterternary\",\"marker\":{\"colorbar\":{\"outlinewidth\":0,\"ticks\":\"\"}}}],\"scattercarpet\":[{\"type\":\"scattercarpet\",\"marker\":{\"colorbar\":{\"outlinewidth\":0,\"ticks\":\"\"}}}],\"carpet\":[{\"aaxis\":{\"endlinecolor\":\"#2a3f5f\",\"gridcolor\":\"white\",\"linecolor\":\"white\",\"minorgridcolor\":\"white\",\"startlinecolor\":\"#2a3f5f\"},\"baxis\":{\"endlinecolor\":\"#2a3f5f\",\"gridcolor\":\"white\",\"linecolor\":\"white\",\"minorgridcolor\":\"white\",\"startlinecolor\":\"#2a3f5f\"},\"type\":\"carpet\"}],\"table\":[{\"cells\":{\"fill\":{\"color\":\"#EBF0F8\"},\"line\":{\"color\":\"white\"}},\"header\":{\"fill\":{\"color\":\"#C8D4E3\"},\"line\":{\"color\":\"white\"}},\"type\":\"table\"}],\"barpolar\":[{\"marker\":{\"line\":{\"color\":\"#E5ECF6\",\"width\":0.5},\"pattern\":{\"fillmode\":\"overlay\",\"size\":10,\"solidity\":0.2}},\"type\":\"barpolar\"}],\"pie\":[{\"automargin\":true,\"type\":\"pie\"}]},\"layout\":{\"autotypenumbers\":\"strict\",\"colorway\":[\"#636efa\",\"#EF553B\",\"#00cc96\",\"#ab63fa\",\"#FFA15A\",\"#19d3f3\",\"#FF6692\",\"#B6E880\",\"#FF97FF\",\"#FECB52\"],\"font\":{\"color\":\"#2a3f5f\"},\"hovermode\":\"closest\",\"hoverlabel\":{\"align\":\"left\"},\"paper_bgcolor\":\"white\",\"plot_bgcolor\":\"#E5ECF6\",\"polar\":{\"bgcolor\":\"#E5ECF6\",\"angularaxis\":{\"gridcolor\":\"white\",\"linecolor\":\"white\",\"ticks\":\"\"},\"radialaxis\":{\"gridcolor\":\"white\",\"linecolor\":\"white\",\"ticks\":\"\"}},\"ternary\":{\"bgcolor\":\"#E5ECF6\",\"aaxis\":{\"gridcolor\":\"white\",\"linecolor\":\"white\",\"ticks\":\"\"},\"baxis\":{\"gridcolor\":\"white\",\"linecolor\":\"white\",\"ticks\":\"\"},\"caxis\":{\"gridcolor\":\"white\",\"linecolor\":\"white\",\"ticks\":\"\"}},\"coloraxis\":{\"colorbar\":{\"outlinewidth\":0,\"ticks\":\"\"}},\"colorscale\":{\"sequential\":[[0.0,\"#0d0887\"],[0.1111111111111111,\"#46039f\"],[0.2222222222222222,\"#7201a8\"],[0.3333333333333333,\"#9c179e\"],[0.4444444444444444,\"#bd3786\"],[0.5555555555555556,\"#d8576b\"],[0.6666666666666666,\"#ed7953\"],[0.7777777777777778,\"#fb9f3a\"],[0.8888888888888888,\"#fdca26\"],[1.0,\"#f0f921\"]],\"sequentialminus\":[[0.0,\"#0d0887\"],[0.1111111111111111,\"#46039f\"],[0.2222222222222222,\"#7201a8\"],[0.3333333333333333,\"#9c179e\"],[0.4444444444444444,\"#bd3786\"],[0.5555555555555556,\"#d8576b\"],[0.6666666666666666,\"#ed7953\"],[0.7777777777777778,\"#fb9f3a\"],[0.8888888888888888,\"#fdca26\"],[1.0,\"#f0f921\"]],\"diverging\":[[0,\"#8e0152\"],[0.1,\"#c51b7d\"],[0.2,\"#de77ae\"],[0.3,\"#f1b6da\"],[0.4,\"#fde0ef\"],[0.5,\"#f7f7f7\"],[0.6,\"#e6f5d0\"],[0.7,\"#b8e186\"],[0.8,\"#7fbc41\"],[0.9,\"#4d9221\"],[1,\"#276419\"]]},\"xaxis\":{\"gridcolor\":\"white\",\"linecolor\":\"white\",\"ticks\":\"\",\"title\":{\"standoff\":15},\"zerolinecolor\":\"white\",\"automargin\":true,\"zerolinewidth\":2},\"yaxis\":{\"gridcolor\":\"white\",\"linecolor\":\"white\",\"ticks\":\"\",\"title\":{\"standoff\":15},\"zerolinecolor\":\"white\",\"automargin\":true,\"zerolinewidth\":2},\"scene\":{\"xaxis\":{\"backgroundcolor\":\"#E5ECF6\",\"gridcolor\":\"white\",\"linecolor\":\"white\",\"showbackground\":true,\"ticks\":\"\",\"zerolinecolor\":\"white\",\"gridwidth\":2},\"yaxis\":{\"backgroundcolor\":\"#E5ECF6\",\"gridcolor\":\"white\",\"linecolor\":\"white\",\"showbackground\":true,\"ticks\":\"\",\"zerolinecolor\":\"white\",\"gridwidth\":2},\"zaxis\":{\"backgroundcolor\":\"#E5ECF6\",\"gridcolor\":\"white\",\"linecolor\":\"white\",\"showbackground\":true,\"ticks\":\"\",\"zerolinecolor\":\"white\",\"gridwidth\":2}},\"shapedefaults\":{\"line\":{\"color\":\"#2a3f5f\"}},\"annotationdefaults\":{\"arrowcolor\":\"#2a3f5f\",\"arrowhead\":0,\"arrowwidth\":1},\"geo\":{\"bgcolor\":\"white\",\"landcolor\":\"#E5ECF6\",\"subunitcolor\":\"white\",\"showland\":true,\"showlakes\":true,\"lakecolor\":\"white\"},\"title\":{\"x\":0.05},\"mapbox\":{\"style\":\"light\"}}},\"scene\":{\"xaxis\":{\"visible\":false,\"showticklabels\":false,\"showgrid\":false,\"zeroline\":false,\"showbackground\":false,\"title\":{\"text\":\"\"}},\"yaxis\":{\"visible\":false,\"showticklabels\":false,\"showgrid\":false,\"zeroline\":false,\"showbackground\":false,\"title\":{\"text\":\"\"}},\"zaxis\":{\"visible\":false,\"showticklabels\":false,\"showgrid\":false,\"zeroline\":false,\"showbackground\":false,\"title\":{\"text\":\"\"}},\"camera\":{\"eye\":{\"x\":1.8,\"y\":1.8,\"z\":1.2}},\"bgcolor\":\"rgba(240,240,240,0.95)\"},\"margin\":{\"l\":0,\"r\":0,\"t\":30,\"b\":0},\"title\":{\"text\":\"Interactive 3D Word Sphere by Sentiment (Drag to Rotate)\",\"y\":0.95},\"width\":900,\"height\":800,\"paper_bgcolor\":\"rgba(255,255,255,1)\"},                        {\"responsive\": true}                    ).then(function(){\n",
              "                            \n",
              "var gd = document.getElementById('90ef0d83-b7c9-431b-879c-0fbefbab22c5');\n",
              "var x = new MutationObserver(function (mutations, observer) {{\n",
              "        var display = window.getComputedStyle(gd).display;\n",
              "        if (!display || display === 'none') {{\n",
              "            console.log([gd, 'removed!']);\n",
              "            Plotly.purge(gd);\n",
              "            observer.disconnect();\n",
              "        }}\n",
              "}});\n",
              "\n",
              "// Listen for the removal of the full notebook cells\n",
              "var notebookContainer = gd.closest('#notebook-container');\n",
              "if (notebookContainer) {{\n",
              "    x.observe(notebookContainer, {childList: true});\n",
              "}}\n",
              "\n",
              "// Listen for the clearing of the current output cell\n",
              "var outputEl = gd.closest('.output');\n",
              "if (outputEl) {{\n",
              "    x.observe(outputEl, {childList: true});\n",
              "}}\n",
              "\n",
              "                        })                };                            </script>        </div>\n",
              "</body>\n",
              "</html>"
            ]
          },
          "metadata": {}
        }
      ]
    },
    {
      "cell_type": "code",
      "source": [],
      "metadata": {
        "id": "7L_o1RJ7zjDK"
      },
      "execution_count": null,
      "outputs": []
    }
  ]
}